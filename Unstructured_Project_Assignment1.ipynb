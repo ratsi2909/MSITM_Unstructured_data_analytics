{
  "nbformat": 4,
  "nbformat_minor": 0,
  "metadata": {
    "colab": {
      "name": "Unstructured Project Assignment1.ipynb",
      "provenance": [],
      "collapsed_sections": []
    },
    "kernelspec": {
      "display_name": "Python 3",
      "language": "python",
      "name": "python3"
    },
    "language_info": {
      "codemirror_mode": {
        "name": "ipython",
        "version": 3
      },
      "file_extension": ".py",
      "mimetype": "text/x-python",
      "name": "python",
      "nbconvert_exporter": "python",
      "pygments_lexer": "ipython3",
      "version": "3.8.5"
    }
  },
  "cells": [
    {
      "cell_type": "markdown",
      "metadata": {
        "id": "WAUfOagen3ei"
      },
      "source": [
        "# Unstructured Data Analytics \n",
        "\n",
        "Team: Iris Wang, Gowtami Khambhampati, Alyssa Bae, Kevin McKinney, Shreya Bakshi, Rick Kim, Rathi Kannan"
      ]
    },
    {
      "cell_type": "markdown",
      "metadata": {
        "id": "ITzVb7ennOhu"
      },
      "source": [
        "\n",
        "\n",
        "# **Scraper: Fetching 5000 posts from Edmunds.**\n",
        "Link: https://forums.edmunds.com/discussion/2864/general/x/entry-level-luxury-performance-sedans/p%7B%7D\n"
      ]
    },
    {
      "cell_type": "code",
      "metadata": {
        "colab": {
          "base_uri": "https://localhost:8080/"
        },
        "id": "AEA8ykV3nORS",
        "outputId": "83382c34-8870-4cd1-ad34-628dd0fb8455"
      },
      "source": [
        "# Use this code if using Colab to run Selenium\n",
        "\n",
        "# Make sure to go to Runtime -> Change runtime and set GPU as hardware accelerator\n",
        "\n",
        "# !kill -9 -1 # Use this line to delete this VM and start a new one. \n",
        "# The above line deletes all files and folders from the current VM and allocates a new one.\n",
        "\n",
        "#Selenium is an open-source tool that automates web browsers.\n",
        "!pip install selenium\n",
        "!apt-get -q update   #Used to handle installation and removal of softwares and libraries\n",
        "!apt install -yq chromium-chromedriver #ChromeDriver is a separate executable that Selenium WebDriver uses to control Chrome.\n",
        "!cp /usr/lib/chromium-browser/chromedriver /usr/bin\n",
        "\n",
        "import sys\n",
        "sys.path.insert(0,'/usr/lib/chromium-browser/chromedriver')\n",
        "from selenium import webdriver \n",
        "#WebDriver is a browser automation framework that works with open source APIs. \n",
        "#The framework operates by accepting commands, sending those commands to a browser, and interacting with applications.\n",
        "chrome_options = webdriver.ChromeOptions()\n",
        "chrome_options.add_argument('--headless')\n",
        "chrome_options.add_argument('--no-sandbox')\n",
        "chrome_options.add_argument('--disable-dev-shm-usage')"
      ],
      "execution_count": 3,
      "outputs": [
        {
          "output_type": "stream",
          "name": "stdout",
          "text": [
            "Collecting selenium\n",
            "  Using cached selenium-3.141.0-py2.py3-none-any.whl (904 kB)\n",
            "Requirement already satisfied: urllib3 in /usr/local/lib/python3.7/dist-packages (from selenium) (1.24.3)\n",
            "Installing collected packages: selenium\n",
            "Successfully installed selenium-3.141.0\n",
            "Get:1 http://security.ubuntu.com/ubuntu bionic-security InRelease [88.7 kB]\n",
            "Get:2 https://cloud.r-project.org/bin/linux/ubuntu bionic-cran40/ InRelease [3,626 B]\n",
            "Ign:3 https://developer.download.nvidia.com/compute/cuda/repos/ubuntu1804/x86_64  InRelease\n",
            "Hit:4 http://ppa.launchpad.net/c2d4u.team/c2d4u4.0+/ubuntu bionic InRelease\n",
            "Ign:5 https://developer.download.nvidia.com/compute/machine-learning/repos/ubuntu1804/x86_64  InRelease\n",
            "Hit:6 https://developer.download.nvidia.com/compute/cuda/repos/ubuntu1804/x86_64  Release\n",
            "Hit:7 http://archive.ubuntu.com/ubuntu bionic InRelease\n",
            "Hit:8 https://developer.download.nvidia.com/compute/machine-learning/repos/ubuntu1804/x86_64  Release\n",
            "Hit:10 http://ppa.launchpad.net/cran/libgit2/ubuntu bionic InRelease\n",
            "Get:9 http://archive.ubuntu.com/ubuntu bionic-updates InRelease [88.7 kB]\n",
            "Hit:12 http://ppa.launchpad.net/deadsnakes/ppa/ubuntu bionic InRelease\n",
            "Get:13 http://security.ubuntu.com/ubuntu bionic-security/universe amd64 Packages [1,430 kB]\n",
            "Hit:14 http://ppa.launchpad.net/graphics-drivers/ppa/ubuntu bionic InRelease\n",
            "Get:11 http://archive.ubuntu.com/ubuntu bionic-backports InRelease [74.6 kB]\n",
            "Get:17 http://archive.ubuntu.com/ubuntu bionic-updates/universe amd64 Packages [2,208 kB]\n",
            "Get:18 http://archive.ubuntu.com/ubuntu bionic-updates/main amd64 Packages [2,800 kB]\n",
            "Fetched 1,038 kB in 3s (383 kB/s)\n",
            "Reading package lists...\n",
            "Reading package lists...\n",
            "Building dependency tree...\n",
            "Reading state information...\n",
            "The following additional packages will be installed:\n",
            "  chromium-browser chromium-browser-l10n chromium-codecs-ffmpeg-extra\n",
            "Suggested packages:\n",
            "  webaccounts-chromium-extension unity-chromium-extension\n",
            "The following NEW packages will be installed:\n",
            "  chromium-browser chromium-browser-l10n chromium-chromedriver\n",
            "  chromium-codecs-ffmpeg-extra\n",
            "0 upgraded, 4 newly installed, 0 to remove and 37 not upgraded.\n",
            "Need to get 92.6 MB of archives.\n",
            "After this operation, 317 MB of additional disk space will be used.\n",
            "Get:1 http://archive.ubuntu.com/ubuntu bionic-updates/universe amd64 chromium-codecs-ffmpeg-extra amd64 93.0.4577.63-0ubuntu0.18.04.1 [1,135 kB]\n",
            "Get:2 http://archive.ubuntu.com/ubuntu bionic-updates/universe amd64 chromium-browser amd64 93.0.4577.63-0ubuntu0.18.04.1 [82.4 MB]\n",
            "Get:3 http://archive.ubuntu.com/ubuntu bionic-updates/universe amd64 chromium-browser-l10n all 93.0.4577.63-0ubuntu0.18.04.1 [4,133 kB]\n",
            "Get:4 http://archive.ubuntu.com/ubuntu bionic-updates/universe amd64 chromium-chromedriver amd64 93.0.4577.63-0ubuntu0.18.04.1 [4,961 kB]\n",
            "Fetched 92.6 MB in 4s (23.7 MB/s)\n",
            "Selecting previously unselected package chromium-codecs-ffmpeg-extra.\n",
            "(Reading database ... 155047 files and directories currently installed.)\n",
            "Preparing to unpack .../chromium-codecs-ffmpeg-extra_93.0.4577.63-0ubuntu0.18.04.1_amd64.deb ...\n",
            "Unpacking chromium-codecs-ffmpeg-extra (93.0.4577.63-0ubuntu0.18.04.1) ...\n",
            "Selecting previously unselected package chromium-browser.\n",
            "Preparing to unpack .../chromium-browser_93.0.4577.63-0ubuntu0.18.04.1_amd64.deb ...\n",
            "Unpacking chromium-browser (93.0.4577.63-0ubuntu0.18.04.1) ...\n",
            "Selecting previously unselected package chromium-browser-l10n.\n",
            "Preparing to unpack .../chromium-browser-l10n_93.0.4577.63-0ubuntu0.18.04.1_all.deb ...\n",
            "Unpacking chromium-browser-l10n (93.0.4577.63-0ubuntu0.18.04.1) ...\n",
            "Selecting previously unselected package chromium-chromedriver.\n",
            "Preparing to unpack .../chromium-chromedriver_93.0.4577.63-0ubuntu0.18.04.1_amd64.deb ...\n",
            "Unpacking chromium-chromedriver (93.0.4577.63-0ubuntu0.18.04.1) ...\n",
            "Setting up chromium-codecs-ffmpeg-extra (93.0.4577.63-0ubuntu0.18.04.1) ...\n",
            "Setting up chromium-browser (93.0.4577.63-0ubuntu0.18.04.1) ...\n",
            "update-alternatives: using /usr/bin/chromium-browser to provide /usr/bin/x-www-browser (x-www-browser) in auto mode\n",
            "update-alternatives: using /usr/bin/chromium-browser to provide /usr/bin/gnome-www-browser (gnome-www-browser) in auto mode\n",
            "Setting up chromium-chromedriver (93.0.4577.63-0ubuntu0.18.04.1) ...\n",
            "Setting up chromium-browser-l10n (93.0.4577.63-0ubuntu0.18.04.1) ...\n",
            "Processing triggers for man-db (2.8.3-2ubuntu0.1) ...\n",
            "Processing triggers for hicolor-icon-theme (0.17-2) ...\n",
            "Processing triggers for mime-support (3.60ubuntu1) ...\n",
            "Processing triggers for libc-bin (2.27-3ubuntu1.3) ...\n",
            "/sbin/ldconfig.real: /usr/local/lib/python3.7/dist-packages/ideep4py/lib/libmkldnn.so.0 is not a symbolic link\n",
            "\n",
            "cp: '/usr/lib/chromium-browser/chromedriver' and '/usr/bin/chromedriver' are the same file\n"
          ]
        }
      ]
    },
    {
      "cell_type": "code",
      "metadata": {
        "id": "iS7Q1akDnWWq"
      },
      "source": [
        "# Setting web driver\n",
        "wd = webdriver.Chrome('chromedriver',options=chrome_options)\n"
      ],
      "execution_count": 4,
      "outputs": []
    },
    {
      "cell_type": "code",
      "metadata": {
        "colab": {
          "base_uri": "https://localhost:8080/"
        },
        "id": "-1v90mkDnYS6",
        "outputId": "aa061107-757f-4f6c-c283-b6ae54d05146"
      },
      "source": [
        "import pandas as pd\n",
        "\n",
        "# Variables \n",
        "page_num = 0\n",
        "total_comment_count = 5000\n",
        "count = 0\n",
        "comments = pd.DataFrame(columns = ['Date','user_id','comments'])\n",
        "\n",
        "# Iterating through Pages (50 comments per page)\n",
        "while count < total_comment_count:\n",
        "\n",
        "  # Fetching routes \n",
        "  route = 'https://forums.edmunds.com/discussion/2864/general/x/entry-level-luxury-performance-sedans/p{}'.format(page_num) # setting page\n",
        "  wd.get(route)\n",
        "\n",
        "  # Getting ids  \n",
        "  comment_ids = []\n",
        "  ids = wd.find_elements_by_xpath(\"//*[contains(@id,'Comment_')]\")\n",
        "\n",
        "  # Storing ids\n",
        "  for i in ids:\n",
        "    comment_ids.append(i.get_attribute('id'))\n",
        "\n",
        "  # Looping through the page\n",
        "  for x in comment_ids:\n",
        "      #Extract dates from for each user on a page\n",
        "      user_date = wd.find_elements_by_xpath('//*[@id=\"' + x +'\"]/div/div[2]/div[2]/span[1]/a/time')[0]\n",
        "      date = user_date.get_attribute('title')\n",
        "\n",
        "      #Extract user ids from each user on a page\n",
        "      userid_element = wd.find_elements_by_xpath('//*[@id=\"' + x +'\"]/div/div[2]/div[1]/span[1]/a[2]')[0]\n",
        "      userid = userid_element.text\n",
        "\n",
        "      #Extract Message for each user on a page\n",
        "      user_message = wd.find_elements_by_xpath('//*[@id=\"' + x +'\"]/div/div[3]/div/div[1]')[0]\n",
        "\n",
        "      # Removes blockquote from text\n",
        "      quote = user_message.find_elements_by_tag_name('blockquote')\n",
        "\n",
        "      if len(quote) > 0:\n",
        "        quote_text = quote[0].text\n",
        "        comment = user_message.text\n",
        "        comment = comment.replace(quote_text,'')\n",
        "      \n",
        "      else:\n",
        "        comment = user_message.text\n",
        "                                    \n",
        "      #Adding date, userid and comment for each user in a dataframe    \n",
        "      comments.loc[len(comments)] = [date,userid,comment]\n",
        "      count +=1 \n",
        "\n",
        "  # Moving onto the next page\n",
        "  page_num += 1\n",
        " # print(count)\n",
        "\n",
        "# Final output\n",
        "print(comments)\n",
        "print(comments.shape[0])\n",
        "print('Final: ' + str(count))\n",
        "\n",
        "#count_volvo = 0\n",
        "#for i in range((comments.shape[0])): \n",
        "#  if ('Volvo' in comments.loc[i,'comments']) | ('volvo' in comments.loc[i,'comments']) :\n",
        "#      count_volvo += 1\n",
        "\n"
      ],
      "execution_count": 5,
      "outputs": [
        {
          "output_type": "stream",
          "name": "stdout",
          "text": [
            "                          Date  ...                                           comments\n",
            "0       March 24, 2002 10:54PM  ...  I personally think that with a few tweaks the ...\n",
            "1       March 25, 2002 12:06AM  ...  I am debating a new purchase and these two are...\n",
            "2       March 25, 2002 10:02AM  ...  Great handling, RWD, excellent engine and the ...\n",
            "3        March 25, 2002 4:04PM  ...  And no manual tranny. That may not matter to y...\n",
            "4        March 25, 2002 5:44PM  ...  One beauty of BMW 3 Series is that there are s...\n",
            "...                        ...  ...                                                ...\n",
            "4995   January 16, 2006 8:09PM  ...  \"...I really would like more interior niceties...\n",
            "4996  January 16, 2006 10:26PM  ...  More and more car makers are supporting iPod i...\n",
            "4997   January 17, 2006 8:26AM  ...  Regarding the comment about the security syste...\n",
            "4998   January 17, 2006 8:52AM  ...  \"If they really want to steal the car, then BM...\n",
            "4999   January 17, 2006 9:00AM  ...  If I'm remembering the same incident you are, ...\n",
            "\n",
            "[5000 rows x 3 columns]\n",
            "5000\n",
            "Final: 5000\n"
          ]
        }
      ]
    },
    {
      "cell_type": "code",
      "metadata": {
        "id": "5td0BL1lnbTF",
        "colab": {
          "base_uri": "https://localhost:8080/",
          "height": 34
        },
        "outputId": "4a84f889-bbf0-436e-cb41-6f27f57ebe86"
      },
      "source": [
        "# Saving to CSV\n",
        "\n",
        "comments.to_csv(\"edmunds_5000_comments.csv\", sep=\"\\t\")\n",
        "!ls\n",
        "from google.colab import files\n",
        "files.download(\"edmunds_5000_comments.csv\")"
      ],
      "execution_count": 6,
      "outputs": [
        {
          "output_type": "stream",
          "name": "stdout",
          "text": [
            "edmunds_5000_comments.csv  sample_data\n"
          ]
        },
        {
          "output_type": "display_data",
          "data": {
            "application/javascript": [
              "\n",
              "    async function download(id, filename, size) {\n",
              "      if (!google.colab.kernel.accessAllowed) {\n",
              "        return;\n",
              "      }\n",
              "      const div = document.createElement('div');\n",
              "      const label = document.createElement('label');\n",
              "      label.textContent = `Downloading \"${filename}\": `;\n",
              "      div.appendChild(label);\n",
              "      const progress = document.createElement('progress');\n",
              "      progress.max = size;\n",
              "      div.appendChild(progress);\n",
              "      document.body.appendChild(div);\n",
              "\n",
              "      const buffers = [];\n",
              "      let downloaded = 0;\n",
              "\n",
              "      const channel = await google.colab.kernel.comms.open(id);\n",
              "      // Send a message to notify the kernel that we're ready.\n",
              "      channel.send({})\n",
              "\n",
              "      for await (const message of channel.messages) {\n",
              "        // Send a message to notify the kernel that we're ready.\n",
              "        channel.send({})\n",
              "        if (message.buffers) {\n",
              "          for (const buffer of message.buffers) {\n",
              "            buffers.push(buffer);\n",
              "            downloaded += buffer.byteLength;\n",
              "            progress.value = downloaded;\n",
              "          }\n",
              "        }\n",
              "      }\n",
              "      const blob = new Blob(buffers, {type: 'application/binary'});\n",
              "      const a = document.createElement('a');\n",
              "      a.href = window.URL.createObjectURL(blob);\n",
              "      a.download = filename;\n",
              "      div.appendChild(a);\n",
              "      a.click();\n",
              "      div.remove();\n",
              "    }\n",
              "  "
            ],
            "text/plain": [
              "<IPython.core.display.Javascript object>"
            ]
          },
          "metadata": {}
        },
        {
          "output_type": "display_data",
          "data": {
            "application/javascript": [
              "download(\"download_55194f89-94f7-43f3-8f0e-2eccc6a01f37\", \"edmunds_5000_comments.csv\", 2715271)"
            ],
            "text/plain": [
              "<IPython.core.display.Javascript object>"
            ]
          },
          "metadata": {}
        }
      ]
    },
    {
      "cell_type": "markdown",
      "metadata": {
        "id": "Kz06PX-AnHlW"
      },
      "source": [
        "# **Task A: Test if the data support Zipf’s law**"
      ]
    },
    {
      "cell_type": "code",
      "metadata": {
        "id": "wpugdWvujm9z"
      },
      "source": [
        "import pandas as pd\n",
        "import numpy as np\n",
        "import matplotlib.pyplot as plt\n",
        "import re\n",
        "from collections import Counter, OrderedDict\n",
        "import nltk\n",
        "from nltk.corpus import stopwords"
      ],
      "execution_count": 7,
      "outputs": []
    },
    {
      "cell_type": "code",
      "metadata": {
        "colab": {
          "resources": {
            "http://localhost:8080/nbextensions/google.colab/files.js": {
              "data": "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",
              "ok": true,
              "headers": [
                [
                  "content-type",
                  "application/javascript"
                ]
              ],
              "status": 200,
              "status_text": ""
            }
          },
          "base_uri": "https://localhost:8080/",
          "height": 72
        },
        "id": "krr1o8uqkLII",
        "outputId": "9e14de00-dc42-4211-bca7-ac8b217ca166"
      },
      "source": [
        "# run this cell to upload files.  \n",
        "from google.colab import files\n",
        "uploaded = files.upload()"
      ],
      "execution_count": 8,
      "outputs": [
        {
          "output_type": "display_data",
          "data": {
            "text/html": [
              "\n",
              "     <input type=\"file\" id=\"files-dc4dc45d-87a0-4dd7-bd20-f76a3e965c49\" name=\"files[]\" multiple disabled\n",
              "        style=\"border:none\" />\n",
              "     <output id=\"result-dc4dc45d-87a0-4dd7-bd20-f76a3e965c49\">\n",
              "      Upload widget is only available when the cell has been executed in the\n",
              "      current browser session. Please rerun this cell to enable.\n",
              "      </output>\n",
              "      <script src=\"/nbextensions/google.colab/files.js\"></script> "
            ],
            "text/plain": [
              "<IPython.core.display.HTML object>"
            ]
          },
          "metadata": {}
        },
        {
          "output_type": "stream",
          "name": "stdout",
          "text": [
            "Saving edmunds_5000_comments.csv to edmunds_5000_comments (1).csv\n"
          ]
        }
      ]
    },
    {
      "cell_type": "code",
      "metadata": {
        "colab": {
          "base_uri": "https://localhost:8080/",
          "height": 419
        },
        "id": "5yG-G8gCjm90",
        "outputId": "e4360a28-b8f1-4d57-a64b-cc259b8ce340"
      },
      "source": [
        "# get edmunds comment file into a dataframe\n",
        "edmunds_data = pd.read_csv(\"edmunds_5000_comments.csv\",sep='\\t', index_col=0)\n",
        "df = pd.DataFrame(edmunds_data) \n",
        "df"
      ],
      "execution_count": 9,
      "outputs": [
        {
          "output_type": "execute_result",
          "data": {
            "text/html": [
              "<div>\n",
              "<style scoped>\n",
              "    .dataframe tbody tr th:only-of-type {\n",
              "        vertical-align: middle;\n",
              "    }\n",
              "\n",
              "    .dataframe tbody tr th {\n",
              "        vertical-align: top;\n",
              "    }\n",
              "\n",
              "    .dataframe thead th {\n",
              "        text-align: right;\n",
              "    }\n",
              "</style>\n",
              "<table border=\"1\" class=\"dataframe\">\n",
              "  <thead>\n",
              "    <tr style=\"text-align: right;\">\n",
              "      <th></th>\n",
              "      <th>Date</th>\n",
              "      <th>user_id</th>\n",
              "      <th>comments</th>\n",
              "    </tr>\n",
              "  </thead>\n",
              "  <tbody>\n",
              "    <tr>\n",
              "      <th>0</th>\n",
              "      <td>March 24, 2002 10:54PM</td>\n",
              "      <td>merc1</td>\n",
              "      <td>I personally think that with a few tweaks the ...</td>\n",
              "    </tr>\n",
              "    <tr>\n",
              "      <th>1</th>\n",
              "      <td>March 25, 2002 12:06AM</td>\n",
              "      <td>fredvh</td>\n",
              "      <td>I am debating a new purchase and these two are...</td>\n",
              "    </tr>\n",
              "    <tr>\n",
              "      <th>2</th>\n",
              "      <td>March 25, 2002 10:02AM</td>\n",
              "      <td>blueguydotcom</td>\n",
              "      <td>Great handling, RWD, excellent engine and the ...</td>\n",
              "    </tr>\n",
              "    <tr>\n",
              "      <th>3</th>\n",
              "      <td>March 25, 2002 4:04PM</td>\n",
              "      <td>hungrywhale</td>\n",
              "      <td>And no manual tranny. That may not matter to y...</td>\n",
              "    </tr>\n",
              "    <tr>\n",
              "      <th>4</th>\n",
              "      <td>March 25, 2002 5:44PM</td>\n",
              "      <td>riez</td>\n",
              "      <td>One beauty of BMW 3 Series is that there are s...</td>\n",
              "    </tr>\n",
              "    <tr>\n",
              "      <th>...</th>\n",
              "      <td>...</td>\n",
              "      <td>...</td>\n",
              "      <td>...</td>\n",
              "    </tr>\n",
              "    <tr>\n",
              "      <th>4995</th>\n",
              "      <td>January 16, 2006 8:09PM</td>\n",
              "      <td>shipo</td>\n",
              "      <td>\"...I really would like more interior niceties...</td>\n",
              "    </tr>\n",
              "    <tr>\n",
              "      <th>4996</th>\n",
              "      <td>January 16, 2006 10:26PM</td>\n",
              "      <td>wco81</td>\n",
              "      <td>More and more car makers are supporting iPod i...</td>\n",
              "    </tr>\n",
              "    <tr>\n",
              "      <th>4997</th>\n",
              "      <td>January 17, 2006 8:26AM</td>\n",
              "      <td>bdr127</td>\n",
              "      <td>Regarding the comment about the security syste...</td>\n",
              "    </tr>\n",
              "    <tr>\n",
              "      <th>4998</th>\n",
              "      <td>January 17, 2006 8:52AM</td>\n",
              "      <td>shipo</td>\n",
              "      <td>\"If they really want to steal the car, then BM...</td>\n",
              "    </tr>\n",
              "    <tr>\n",
              "      <th>4999</th>\n",
              "      <td>January 17, 2006 9:00AM</td>\n",
              "      <td>pat</td>\n",
              "      <td>If I'm remembering the same incident you are, ...</td>\n",
              "    </tr>\n",
              "  </tbody>\n",
              "</table>\n",
              "<p>5000 rows × 3 columns</p>\n",
              "</div>"
            ],
            "text/plain": [
              "                          Date  ...                                           comments\n",
              "0       March 24, 2002 10:54PM  ...  I personally think that with a few tweaks the ...\n",
              "1       March 25, 2002 12:06AM  ...  I am debating a new purchase and these two are...\n",
              "2       March 25, 2002 10:02AM  ...  Great handling, RWD, excellent engine and the ...\n",
              "3        March 25, 2002 4:04PM  ...  And no manual tranny. That may not matter to y...\n",
              "4        March 25, 2002 5:44PM  ...  One beauty of BMW 3 Series is that there are s...\n",
              "...                        ...  ...                                                ...\n",
              "4995   January 16, 2006 8:09PM  ...  \"...I really would like more interior niceties...\n",
              "4996  January 16, 2006 10:26PM  ...  More and more car makers are supporting iPod i...\n",
              "4997   January 17, 2006 8:26AM  ...  Regarding the comment about the security syste...\n",
              "4998   January 17, 2006 8:52AM  ...  \"If they really want to steal the car, then BM...\n",
              "4999   January 17, 2006 9:00AM  ...  If I'm remembering the same incident you are, ...\n",
              "\n",
              "[5000 rows x 3 columns]"
            ]
          },
          "metadata": {},
          "execution_count": 9
        }
      ]
    },
    {
      "cell_type": "code",
      "metadata": {
        "colab": {
          "base_uri": "https://localhost:8080/"
        },
        "id": "HcBpR3T7jm92",
        "outputId": "2c8f0901-ddb3-4aa0-d8b2-9fa5c2b15bd7"
      },
      "source": [
        "# get stopwords from nltk library\n",
        "nltk.download('stopwords')\n",
        "stopword = stopwords.words('english')"
      ],
      "execution_count": 10,
      "outputs": [
        {
          "output_type": "stream",
          "name": "stdout",
          "text": [
            "[nltk_data] Downloading package stopwords to /root/nltk_data...\n",
            "[nltk_data]   Unzipping corpora/stopwords.zip.\n"
          ]
        }
      ]
    },
    {
      "cell_type": "code",
      "metadata": {
        "id": "Ncpuf2t5nyFt"
      },
      "source": [
        "# create a dictionary of words and their frequency. exclude stopwords.\n",
        "word_dictionary = Counter()\n",
        "all_words = []\n",
        "word_dict = Counter()\n",
        "def convert_func(comments):\n",
        "    for line in comments:\n",
        "        line = \" \".join(str(x) for x in line).replace('(', '').replace(')', '') \n",
        "        all_words.extend(re.sub(r'[^a-zA-Z0-9-]', ' ', line).split())\n",
        "        word_dict.update(Counter(all_words))\n",
        "    return word_dict\n",
        " \n",
        "        \n",
        "convert_func(df.values)\n"
      ],
      "execution_count": null,
      "outputs": []
    },
    {
      "cell_type": "code",
      "metadata": {
        "id": "ADZd0DfhnXTB"
      },
      "source": [
        "top_100 = word_dict.most_common(100)\n",
        "#print(top_100)"
      ],
      "execution_count": null,
      "outputs": []
    },
    {
      "cell_type": "code",
      "metadata": {
        "colab": {
          "base_uri": "https://localhost:8080/",
          "height": 282
        },
        "id": "ezHrcgjTena-",
        "outputId": "4455f977-0fdd-4a98-cbc9-eccf888a9b30"
      },
      "source": [
        "# Plot the most common 100 words in the data against the theoretical prediction of the law.\n",
        "import math\n",
        "import matplotlib\n",
        "\n",
        "logInds = []\n",
        "logCounts = []\n",
        "rank_word_count = []\n",
        "\n",
        "for (ind, (word, count)) in enumerate(top_100):\n",
        "    ind = ind+1\n",
        "    rank_word_count.append((ind,word,count))\n",
        "    logInds.append(math.log(ind))\n",
        "    logCounts.append(math.log(count))\n",
        "\n",
        "plt.plot(logInds,logCounts,'ro')"
      ],
      "execution_count": null,
      "outputs": [
        {
          "output_type": "execute_result",
          "data": {
            "text/plain": [
              "[<matplotlib.lines.Line2D at 0x7f3f6a3bead0>]"
            ]
          },
          "metadata": {},
          "execution_count": 11
        },
        {
          "output_type": "display_data",
          "data": {
            "image/png": "[encoded data removed]",
            "text/plain": [
              "<Figure size 432x288 with 1 Axes>"
            ]
          },
          "metadata": {
            "needs_background": "light"
          }
        }
      ]
    },
    {
      "cell_type": "code",
      "metadata": {
        "colab": {
          "base_uri": "https://localhost:8080/"
        },
        "id": "avaCP-XYhrgu",
        "outputId": "c5643602-fec7-4220-f593-d02da60b9836"
      },
      "source": [
        " # test if the data support Zipf’s law \n",
        " # Note how when we move by approximately 3x rank, the frequency goes down by about 1/3 thus proving the data supports Zipf's law\n",
        "print(rank_word_count[10])\n",
        "print(rank_word_count[30])\n",
        "print(rank_word_count[90])\n",
        " "
      ],
      "execution_count": null,
      "outputs": [
        {
          "output_type": "stream",
          "name": "stdout",
          "text": [
            "(11, 'you', 12789434)\n",
            "(31, 'was', 5132453)\n",
            "(91, 'other', 2134995)\n"
          ]
        }
      ]
    },
    {
      "cell_type": "code",
      "metadata": {
        "colab": {
          "base_uri": "https://localhost:8080/"
        },
        "id": "F_oMN2Ugef3u",
        "outputId": "c72876b0-a34e-460e-fd7d-1061f1c1ead2"
      },
      "source": [
        "# test if the data support Zipf’s law - using linear regression - expected result: b1 is close to -1.0\n",
        "\n",
        "import sklearn as sklearn\n",
        "from sklearn import linear_model\n",
        " \n",
        "X = np.c_[logInds]\n",
        "y = np.c_[logCounts]\n",
        "\n",
        "model = linear_model.LinearRegression()\n",
        "model.fit(X,y)\n",
        "b0, b1 = model.intercept_[0], model.coef_[0][0]\n",
        "b0,b1\n",
        "                           "
      ],
      "execution_count": null,
      "outputs": [
        {
          "output_type": "execute_result",
          "data": {
            "text/plain": [
              "(18.23436554901975, -0.8074143584680389)"
            ]
          },
          "metadata": {},
          "execution_count": 13
        }
      ]
    },
    {
      "cell_type": "markdown",
      "metadata": {
        "id": "ISh-6oBcJnjt"
      },
      "source": [
        "# **Task B: Find the top 10 brands from frequency count**"
      ]
    },
    {
      "cell_type": "code",
      "metadata": {
        "colab": {
          "resources": {
            "http://localhost:8080/nbextensions/google.colab/files.js": {
              "data": "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",
              "ok": true,
              "headers": [
                [
                  "content-type",
                  "application/javascript"
                ]
              ],
              "status": 200,
              "status_text": ""
            }
          },
          "base_uri": "https://localhost:8080/",
          "height": 362
        },
        "id": "L474IWXf40he",
        "outputId": "82dc8185-a87f-46a7-9922-caaa0f196f17"
      },
      "source": [
        "# run this cell to download files. car models and edmunds comment files are already uploaded\n",
        "from google.colab import files\n",
        "uploaded = files.upload()"
      ],
      "execution_count": 1,
      "outputs": [
        {
          "output_type": "display_data",
          "data": {
            "text/html": [
              "\n",
              "     <input type=\"file\" id=\"files-eb9a0bbe-b882-4e48-aa30-7e5959dce64c\" name=\"files[]\" multiple disabled\n",
              "        style=\"border:none\" />\n",
              "     <output id=\"result-eb9a0bbe-b882-4e48-aa30-7e5959dce64c\">\n",
              "      Upload widget is only available when the cell has been executed in the\n",
              "      current browser session. Please rerun this cell to enable.\n",
              "      </output>\n",
              "      <script src=\"/nbextensions/google.colab/files.js\"></script> "
            ],
            "text/plain": [
              "<IPython.core.display.HTML object>"
            ]
          },
          "metadata": {}
        },
        {
          "output_type": "error",
          "ename": "KeyboardInterrupt",
          "evalue": "ignored",
          "traceback": [
            "\u001b[0;31m---------------------------------------------------------------------------\u001b[0m",
            "\u001b[0;31mKeyboardInterrupt\u001b[0m                         Traceback (most recent call last)",
            "\u001b[0;32m<ipython-input-1-bcd9bac0b01e>\u001b[0m in \u001b[0;36m<module>\u001b[0;34m()\u001b[0m\n\u001b[1;32m      1\u001b[0m \u001b[0;31m# run this cell to download files. car models and edmunds comment files are already uploaded\u001b[0m\u001b[0;34m\u001b[0m\u001b[0;34m\u001b[0m\u001b[0;34m\u001b[0m\u001b[0m\n\u001b[1;32m      2\u001b[0m \u001b[0;32mfrom\u001b[0m \u001b[0mgoogle\u001b[0m\u001b[0;34m.\u001b[0m\u001b[0mcolab\u001b[0m \u001b[0;32mimport\u001b[0m \u001b[0mfiles\u001b[0m\u001b[0;34m\u001b[0m\u001b[0;34m\u001b[0m\u001b[0m\n\u001b[0;32m----> 3\u001b[0;31m \u001b[0muploaded\u001b[0m \u001b[0;34m=\u001b[0m \u001b[0mfiles\u001b[0m\u001b[0;34m.\u001b[0m\u001b[0mupload\u001b[0m\u001b[0;34m(\u001b[0m\u001b[0;34m)\u001b[0m\u001b[0;34m\u001b[0m\u001b[0;34m\u001b[0m\u001b[0m\n\u001b[0m",
            "\u001b[0;32m/usr/local/lib/python3.7/dist-packages/google/colab/files.py\u001b[0m in \u001b[0;36mupload\u001b[0;34m()\u001b[0m\n\u001b[1;32m     62\u001b[0m   result = _output.eval_js(\n\u001b[1;32m     63\u001b[0m       'google.colab._files._uploadFiles(\"{input_id}\", \"{output_id}\")'.format(\n\u001b[0;32m---> 64\u001b[0;31m           input_id=input_id, output_id=output_id))\n\u001b[0m\u001b[1;32m     65\u001b[0m   \u001b[0mfiles\u001b[0m \u001b[0;34m=\u001b[0m \u001b[0m_collections\u001b[0m\u001b[0;34m.\u001b[0m\u001b[0mdefaultdict\u001b[0m\u001b[0;34m(\u001b[0m\u001b[0m_six\u001b[0m\u001b[0;34m.\u001b[0m\u001b[0mbinary_type\u001b[0m\u001b[0;34m)\u001b[0m\u001b[0;34m\u001b[0m\u001b[0;34m\u001b[0m\u001b[0m\n\u001b[1;32m     66\u001b[0m   \u001b[0;31m# Mapping from original filename to filename as saved locally.\u001b[0m\u001b[0;34m\u001b[0m\u001b[0;34m\u001b[0m\u001b[0;34m\u001b[0m\u001b[0m\n",
            "\u001b[0;32m/usr/local/lib/python3.7/dist-packages/google/colab/output/_js.py\u001b[0m in \u001b[0;36meval_js\u001b[0;34m(script, ignore_result, timeout_sec)\u001b[0m\n\u001b[1;32m     38\u001b[0m   \u001b[0;32mif\u001b[0m \u001b[0mignore_result\u001b[0m\u001b[0;34m:\u001b[0m\u001b[0;34m\u001b[0m\u001b[0;34m\u001b[0m\u001b[0m\n\u001b[1;32m     39\u001b[0m     \u001b[0;32mreturn\u001b[0m\u001b[0;34m\u001b[0m\u001b[0;34m\u001b[0m\u001b[0m\n\u001b[0;32m---> 40\u001b[0;31m   \u001b[0;32mreturn\u001b[0m \u001b[0m_message\u001b[0m\u001b[0;34m.\u001b[0m\u001b[0mread_reply_from_input\u001b[0m\u001b[0;34m(\u001b[0m\u001b[0mrequest_id\u001b[0m\u001b[0;34m,\u001b[0m \u001b[0mtimeout_sec\u001b[0m\u001b[0;34m)\u001b[0m\u001b[0;34m\u001b[0m\u001b[0;34m\u001b[0m\u001b[0m\n\u001b[0m\u001b[1;32m     41\u001b[0m \u001b[0;34m\u001b[0m\u001b[0m\n\u001b[1;32m     42\u001b[0m \u001b[0;34m\u001b[0m\u001b[0m\n",
            "\u001b[0;32m/usr/local/lib/python3.7/dist-packages/google/colab/_message.py\u001b[0m in \u001b[0;36mread_reply_from_input\u001b[0;34m(message_id, timeout_sec)\u001b[0m\n\u001b[1;32m     99\u001b[0m     \u001b[0mreply\u001b[0m \u001b[0;34m=\u001b[0m \u001b[0m_read_next_input_message\u001b[0m\u001b[0;34m(\u001b[0m\u001b[0;34m)\u001b[0m\u001b[0;34m\u001b[0m\u001b[0;34m\u001b[0m\u001b[0m\n\u001b[1;32m    100\u001b[0m     \u001b[0;32mif\u001b[0m \u001b[0mreply\u001b[0m \u001b[0;34m==\u001b[0m \u001b[0m_NOT_READY\u001b[0m \u001b[0;32mor\u001b[0m \u001b[0;32mnot\u001b[0m \u001b[0misinstance\u001b[0m\u001b[0;34m(\u001b[0m\u001b[0mreply\u001b[0m\u001b[0;34m,\u001b[0m \u001b[0mdict\u001b[0m\u001b[0;34m)\u001b[0m\u001b[0;34m:\u001b[0m\u001b[0;34m\u001b[0m\u001b[0;34m\u001b[0m\u001b[0m\n\u001b[0;32m--> 101\u001b[0;31m       \u001b[0mtime\u001b[0m\u001b[0;34m.\u001b[0m\u001b[0msleep\u001b[0m\u001b[0;34m(\u001b[0m\u001b[0;36m0.025\u001b[0m\u001b[0;34m)\u001b[0m\u001b[0;34m\u001b[0m\u001b[0;34m\u001b[0m\u001b[0m\n\u001b[0m\u001b[1;32m    102\u001b[0m       \u001b[0;32mcontinue\u001b[0m\u001b[0;34m\u001b[0m\u001b[0;34m\u001b[0m\u001b[0m\n\u001b[1;32m    103\u001b[0m     if (reply.get('type') == 'colab_reply' and\n",
            "\u001b[0;31mKeyboardInterrupt\u001b[0m: "
          ]
        }
      ]
    },
    {
      "cell_type": "code",
      "metadata": {
        "id": "qGeLVvjkA36o"
      },
      "source": [
        "# #replace model with brand\n",
        "# car_data = pd.read_csv('car models brands.csv')\n",
        "# car_data\n",
        "\n",
        "# car_brand = car_data['Brand'].to_list()\n",
        "# car_model = car_data['Model'].to_list()\n",
        "\n",
        "# size = len(car_model)\n",
        "# car_dict = {}\n",
        "\n",
        "# for i in range(size):\n",
        "#   car_dict[car_model[i]] = car_brand[i]\n",
        "\n",
        "# for word in all_words:\n",
        "#   if word in car_dict:\n",
        "#     word = car_dict[word]\n"
      ],
      "execution_count": null,
      "outputs": []
    },
    {
      "cell_type": "code",
      "metadata": {
        "id": "yjSW5iSc9mGP"
      },
      "source": [
        "car_data = pd.read_csv(\"car models brands.csv\", header=None, names=['Brand','Model'])\n",
        "\n",
        "car_data = car_data[car_data[\"Brand\"].str.contains(\"car|problem|seat|sedan\")==False]\n",
        "print(car_data)\n",
        "models_list = car_data['Model'].tolist()"
      ],
      "execution_count": null,
      "outputs": []
    },
    {
      "cell_type": "code",
      "metadata": {
        "id": "ASeSgPosVtFm"
      },
      "source": [
        "import nltk \n",
        "nltk.download('punkt')\n",
        "\n",
        "df.dropna(inplace=True)\n",
        "\n",
        "df['t'] = df['comments'].apply(nltk.tokenize.word_tokenize)"
      ],
      "execution_count": null,
      "outputs": []
    },
    {
      "cell_type": "code",
      "metadata": {
        "id": "dTAvnxD9VtI4"
      },
      "source": [
        "def token_cleaner(row):\n",
        "    clean_tokens = []\n",
        "    list_row = list(row) #Set --> List\n",
        "    for word in list_row:\n",
        "        word = word.lower()\n",
        "        if word in models_list: #Change any models that appear to their corresponding Brands\n",
        "            word = car_data['Brand'][car_data['Model']==word].tolist()[0]\n",
        "            if word not in clean_tokens:\n",
        "                clean_tokens.append(word.lower())\n",
        "        else: \n",
        "            if word not in clean_tokens: \n",
        "                clean_tokens.append(word.lower())\n",
        "    clean_tokens = [x.lower() for x in clean_tokens]\n",
        "    return clean_tokens\n",
        "\n",
        "df['t'] = df['t'].apply(token_cleaner)\n",
        "# print(comments['Tokens'][0:10])\n"
      ],
      "execution_count": null,
      "outputs": []
    },
    {
      "cell_type": "code",
      "metadata": {
        "id": "PWyzDYlRVtL-"
      },
      "source": [
        "cars_dict = dict()\n",
        "\n",
        "for row in df['t']:\n",
        "    list_row = list(row) #Set --> List\n",
        "    for word in row:\n",
        "        word = word.lower() #Remove any capitalization\n",
        "        if word in models_list: #Change any models that appear to their corresponding Brands\n",
        "            word = car_data['Brand'][car_data['Model']==word].tolist()[0]\n",
        "        if word in cars_dict:\n",
        "            cars_dict[word] += 1\n",
        "        else:\n",
        "            cars_dict[word] = 1"
      ],
      "execution_count": null,
      "outputs": []
    },
    {
      "cell_type": "code",
      "metadata": {
        "id": "vXDsHN2CVyOs"
      },
      "source": [
        "top_makes = dict()\n",
        "\n",
        "for i in cars_dict: \n",
        "    if i in list(set(car_data['Brand'])):\n",
        "        top_makes[i] = cars_dict[i]\n",
        "\n",
        "k = Counter(top_makes) \n",
        "high = k.most_common(10) \n",
        "\n",
        "top_brands = []\n",
        "for i in high:\n",
        "    top_brands.append(i[0])\n",
        "\n",
        "df_freq = pd.DataFrame(index=top_brands, columns=['Frequency'])\n",
        "\n",
        "for i in range(0,len(high)):\n",
        "    df_freq['Frequency'][i] = high[i][1]\n",
        "\n",
        "print('Brands with Highest Frequency:')\n",
        "display(df_freq)"
      ],
      "execution_count": null,
      "outputs": []
    },
    {
      "cell_type": "markdown",
      "metadata": {
        "id": "1FUNEWwGJ-Wt"
      },
      "source": [
        "#  **Task C: Calculate lift ratios**  "
      ]
    },
    {
      "cell_type": "code",
      "metadata": {
        "id": "k6w5Scs2VyS8"
      },
      "source": [
        "import itertools\n",
        "top_brand_combos = list(itertools.combinations(top_brands,2))\n",
        "print(top_brand_combos)"
      ],
      "execution_count": null,
      "outputs": []
    },
    {
      "cell_type": "code",
      "metadata": {
        "id": "GUvFOO9uVyWn"
      },
      "source": [
        "#Define a function that will calculate Lift\n",
        "def liftCalc(word1,word2):\n",
        "    w1freq = sum(df.apply(lambda x: word1 in x['t'], axis=1))\n",
        "    w2freq = sum(df.apply(lambda x: word2 in x['t'], axis=1))\n",
        "    bothfreq = sum(df.apply(lambda x: word1 in x['t'] and word2 in x['t'], axis=1))\n",
        "    return float(bothfreq/len(df))/((float(w1freq)/len(df))*(float(w2freq)/len(df)))"
      ],
      "execution_count": null,
      "outputs": []
    },
    {
      "cell_type": "code",
      "metadata": {
        "id": "aIih-8OTVyao"
      },
      "source": [
        "#Initialize empty dictionary for lift values\n",
        "brand_lifts = dict()\n",
        "\n",
        "#iterate over brand combinations, calculate lift, save to dictionary\n",
        "for i in range(0,len(top_brand_combos)): \n",
        "    a,b = top_brand_combos[i]\n",
        "    brands = (a,b)\n",
        "    lift = liftCalc(a,b)\n",
        "    brand_lifts[brands] = lift"
      ],
      "execution_count": null,
      "outputs": []
    },
    {
      "cell_type": "code",
      "metadata": {
        "id": "GEjzYoElVyeK"
      },
      "source": [
        "df_lifts = pd.DataFrame(columns=top_brands,index=top_brands)\n",
        "for brand in top_brands: \n",
        "    df_lifts[brand][brand] = '-'\n",
        "for brands in brand_lifts:\n",
        "    a,b = brands\n",
        "    df_lifts[a][b] = '-'\n",
        "    df_lifts[b][a] = (brand_lifts[brands])"
      ],
      "execution_count": null,
      "outputs": []
    },
    {
      "cell_type": "code",
      "metadata": {
        "id": "GPWRSRvNVtOs"
      },
      "source": [
        "#Lift values for brands\n",
        "df_lifts"
      ],
      "execution_count": null,
      "outputs": []
    },
    {
      "cell_type": "code",
      "metadata": {
        "id": "xuHQ99U0VtRi"
      },
      "source": [
        "d = Counter(brand_lifts)\n",
        "\n",
        "print('Brand Combinations With Highest Lift:')\n",
        "for k, v in d.most_common(10):\n",
        "    print('%s: %.6f' % (k, v))"
      ],
      "execution_count": null,
      "outputs": []
    },
    {
      "cell_type": "code",
      "metadata": {
        "id": "iwo68vDYKbxW"
      },
      "source": [
        ""
      ],
      "execution_count": null,
      "outputs": []
    },
    {
      "cell_type": "code",
      "metadata": {
        "id": "RF6nAgqYVtUb"
      },
      "source": [
        "print( 'Brand Combinations With Lowest Lift:')\n",
        "for k, v in d.most_common()[-11:-1]:\n",
        "    print('%s: %.6f' % (k, v))"
      ],
      "execution_count": null,
      "outputs": []
    },
    {
      "cell_type": "markdown",
      "metadata": {
        "id": "Yh-YORapG2Jv"
      },
      "source": [
        "# **Task D: Show the brands on a multi-dimensional scaling (MDS) map**"
      ]
    },
    {
      "cell_type": "code",
      "metadata": {
        "id": "zrp8-VkyVtXi"
      },
      "source": [
        "top_brand_lifts = pd.DataFrame(columns=top_brands,index=top_brands)"
      ],
      "execution_count": null,
      "outputs": []
    },
    {
      "cell_type": "code",
      "metadata": {
        "id": "4rOeugaGWV1f"
      },
      "source": [
        "for brands in brand_lifts:\n",
        "    a,b = brands\n",
        "    top_brand_lifts[a][b] = (1/brand_lifts[brands])\n",
        "    top_brand_lifts[b][a] = (1/brand_lifts[brands])"
      ],
      "execution_count": null,
      "outputs": []
    },
    {
      "cell_type": "code",
      "metadata": {
        "id": "DF1SFxPiWV4n"
      },
      "source": [
        "for brand in top_brands: \n",
        "    top_brand_lifts[brand][brand] = 0"
      ],
      "execution_count": null,
      "outputs": []
    },
    {
      "cell_type": "code",
      "metadata": {
        "id": "wqFj-EraWV73"
      },
      "source": [
        "top_brand_lifts"
      ],
      "execution_count": null,
      "outputs": []
    },
    {
      "cell_type": "code",
      "metadata": {
        "id": "XfxTJlp2WV-9"
      },
      "source": [
        "from sklearn import manifold\n",
        "from sklearn.manifold import MDS\n",
        "\n",
        "mds = manifold.MDS(dissimilarity='euclidean')\n",
        "mds_fit = mds.fit(top_brand_lifts)\n",
        "coords = mds.fit_transform(top_brand_lifts)"
      ],
      "execution_count": null,
      "outputs": []
    },
    {
      "cell_type": "code",
      "metadata": {
        "id": "ar9qNBhrWWEn"
      },
      "source": [
        "x,y = coords.T\n",
        "\n",
        "plt.figure(figsize=(10, 10))\n",
        "plt.scatter(x,y,c='coral')\n",
        "\n",
        "for i, txt in enumerate(top_brands):\n",
        "    plt.annotate(txt, (x[i], y[i]), xycoords='data',\n",
        "             xytext=(20, -20), textcoords='offset points',\n",
        "             size=14, ha='right', va=\"center\",\n",
        "             bbox=dict(boxstyle=\"Sawtooth\",color='yellow' ,alpha=0.5),\n",
        "             arrowprops=dict(arrowstyle=\"wedge,tail_width=0.5\", alpha=0.1))\n",
        "    \n",
        "plt.yticks([])\n",
        "plt.xticks([])\n",
        "plt.title('Multidimensional-Scaling:- Topmost 10 Brands \\n (Euclidean Distances = 1 / lift)')\n",
        "plt.show()"
      ],
      "execution_count": null,
      "outputs": []
    },
    {
      "cell_type": "markdown",
      "metadata": {
        "id": "wvrDpubOHEvP"
      },
      "source": [
        "Finding the **Aspirational** Brands"
      ]
    },
    {
      "cell_type": "code",
      "metadata": {
        "id": "O1lfYfmMrvt_"
      },
      "source": [
        "aspiration_comments = pd.read_csv(\"edmunds_5000_comments.csv\",sep='\\t', index_col=0)\n",
        "aspiration_comments.dropna(inplace=True)\n",
        "aspiration_comments['Tokens2'] = aspiration_comments['comments'].apply(nltk.tokenize.word_tokenize)"
      ],
      "execution_count": null,
      "outputs": []
    },
    {
      "cell_type": "code",
      "metadata": {
        "id": "gQ4T1QIIsGnw"
      },
      "source": [
        "def lower_func(row):\n",
        "    list_row = list(row)\n",
        "    token=[]\n",
        "    for word in list_row:\n",
        "        word=word.lower()\n",
        "        if word in models_list: #Change any models that appear to their corresponding Brands\n",
        "            word = car_data['Brand'][car_data['Model']==word].tolist()[0]\n",
        "            if word not in token:\n",
        "                token.append(word) \n",
        "        else: \n",
        "                token.append(word) \n",
        "    return token\n",
        "\n",
        "aspiration_comments['Tokens2'] = aspiration_comments['Tokens2'].apply(lower_func)\n",
        "\n",
        "#print(aspiration_comments)"
      ],
      "execution_count": null,
      "outputs": []
    },
    {
      "cell_type": "code",
      "metadata": {
        "id": "E153q2yjsLZP"
      },
      "source": [
        "def attach_together(token_list):\n",
        "    r=''\n",
        "    for each in token_list:\n",
        "        r=r+'' + each + ' '\n",
        "    return r\n",
        "\n",
        "aspiration_comments['Attached_Tokens'] = aspiration_comments['Tokens2'].apply(attach_together)\n",
        "#print(aspiration_comments)"
      ],
      "execution_count": null,
      "outputs": []
    },
    {
      "cell_type": "code",
      "metadata": {
        "id": "Cao5Z1QcsQli"
      },
      "source": [
        "#car_data ##= pd.read_csv(r\"C:\\Users\\palla\\Downloads\\car models brands.csv\", header=None, names=['Brand','Model'])\n",
        "aspirations=['love to own','cannot wait to buy','looking forward to buy','desire to buy','fancy car','eager to buy','would like to buy','dream car','really want','future car','dream of','cant wait to buy','would love to buy','wish to buy','want to buy','aspire to','thinking to buy','love to buy','want to own','like to own','have to own','nice to own','nice to buy','have to buy','would love to buy','would like to buy','wish to own','looking to buy']\n",
        "unique_brands=list(set(car_data.Brand.values))\n",
        "#print(unique_brands)"
      ],
      "execution_count": null,
      "outputs": []
    },
    {
      "cell_type": "code",
      "metadata": {
        "id": "yO-YD8aAsW34"
      },
      "source": [
        "#Define a function that will calculate Lift based on new tokens\n",
        "def liftCalc_aspiration(word_1,word_2):\n",
        "  \n",
        "    w1freq = sum(aspiration_comments.apply(lambda x: word_1 in x.Attached_Tokens_Tokenized, axis=1))\n",
        "    w2freq = sum(aspiration_comments.apply(lambda x: word_2 in x.Attached_Tokens_Tokenized, axis=1))\n",
        "    bothfreq = sum(aspiration_comments.apply(lambda x: word_1 in x.Attached_Tokens_Tokenized and word_2 in x.Attached_Tokens_Tokenized, axis=1))\n",
        "    try:\n",
        "        return float(bothfreq/len(aspiration_comments))/((float(w1freq)/len(aspiration_comments))*(float(w2freq)/len(aspiration_comments)))\n",
        "    except:\n",
        "        return 0"
      ],
      "execution_count": null,
      "outputs": []
    },
    {
      "cell_type": "code",
      "metadata": {
        "id": "u0M4ry6KsZja"
      },
      "source": [
        "def find_aspirations(each_at):\n",
        "  \n",
        "\n",
        "    for each_aspiration in aspirations:\n",
        "        if each_aspiration in each_at:\n",
        "            for brand in unique_brands:\n",
        "                if brand in each_at:\n",
        "                    each_at=each_at.replace(each_aspiration,'aspirations_find_out')          \n",
        "                    #print(brand,each_aspiration) \n",
        "    return each_at\n",
        "\n",
        "aspiration_comments.Attached_Tokens=aspiration_comments.Attached_Tokens.apply(find_aspirations)\n",
        "aspiration_comments['Attached_Tokens_Tokenized']=aspiration_comments.Attached_Tokens.apply(nltk.tokenize.word_tokenize)\n",
        "#print(aspiration_comments)\n",
        "#print(each_at)"
      ],
      "execution_count": null,
      "outputs": []
    },
    {
      "cell_type": "markdown",
      "metadata": {
        "id": "p-xuNZvkHj9W"
      },
      "source": [
        "#**Task H: Most Aspirational Brands with the lift values**"
      ]
    },
    {
      "cell_type": "code",
      "metadata": {
        "id": "mKuppptcscpK"
      },
      "source": [
        "import operator\n",
        "d = {} \n",
        "for brand in unique_brands:\n",
        "    lift=liftCalc_aspiration(brand,'aspirations_find_out')\n",
        "    if lift>0:\n",
        "        d[brand]=lift\n",
        "        #print(d)\n",
        "sorted_d= sorted(d.items(), key=operator.itemgetter(1),reverse=True)\n",
        "\n",
        "df_aspiration = pd.DataFrame(sorted_d,columns=['Brand','Lift'])\n",
        "\n",
        "#print('\\n \\033[1m' + 'BMW is the \"Most Aspirational\" Brand ' + '\\033[0m')\n",
        "print('\\n Brands and Lift Values:')\n",
        "display(df_aspiration)"
      ],
      "execution_count": null,
      "outputs": []
    },
    {
      "cell_type": "markdown",
      "metadata": {
        "id": "al_ab1za5HpJ"
      },
      "source": [
        "1. Which forum you chose (provide URL) \n",
        "\n",
        "* https://forums.edmunds.com/discussion/2864/general/x/entry-level-luxury-performance-sedans/p%7B%7D\n",
        "\n",
        "2. Which 10 brands you chose – provide the frequency table\n",
        "\n",
        "* The 10 brands that we chose are bmw, acura, audi, honda, infiniti,\n",
        "nissan, mercedes benz, toyota,subaru, and volkswagen\n",
        "\n",
        "* See the code above for the frequency table\n",
        "\n",
        "3. Show all lift calculations in a table.\n",
        "\n",
        "* see the code above\n",
        "\n",
        "4. MDS map\n",
        "\n",
        "* see the code and map above\n",
        "\n",
        "5. State the 5 attributes you chose (again, a table is good here)\n",
        "\n",
        "6. For task E, provide all details of your analysis – e.g., how you measured “aspirational” and how you found the most aspirational brand.\n",
        "\n",
        "* When looking at the lift values from car brands, you can determine which car brands are most often compared to each other, in order to get insights on who are their main competitors. As lift values decrease, the stronger the association is between the two brands. The strongest brand association was between Volkswagen and Audi. This may be due to the fact that Audi is the luxury car brand owned by the Volkswagen Group. In addition, other brands with strong associations were with Toyota, Nissan, and Honda. All three of these cars are produced by Japanese automobile manufactures, and are among the most popular cars purchased in America and the rest of the world. These three brands all compete with each in the affordable car market, especially in the United States. Therefore, you would expect there to be many comparisons between these three car brands. Something I did not expect was for the brand association between BMW and Mercedes to be so low. When looking at entry level luxury car brands, BMW and Mercedes are often the two of the most popular car brands when talking about luxury, especially due to the fact that they are both produced by German car manufactures. In fact, there seemed to be not any significant associations between any car brands with BMW. This could mean that people who purchase BMWs are loyal and are unlikely to switch to another brand. \n",
        "\n",
        "7. Advice/insights based on your analysis for your client."
      ]
    },
    {
      "cell_type": "markdown",
      "metadata": {
        "id": "EuAGRRCwd2kD"
      },
      "source": [
        "# **Task G: Analysis of Aspirational Brands**\n",
        "\n",
        "One could tell at first glance that when consumers are buying and discussing entry-level luxury cars, they mainly mention Japanese and European car brands, rather than American domestic automakers.\n",
        "The first 5 of the top 10 aspirational brands are mainly Japanese automakers, except the third place is Volvo. We believe that it’s mainly because the global reorganization of Japanese luxurious car brands like Lexus, Infiniti which started selling vehicles in North America since end 80s.\n",
        "\n",
        "**price**\n",
        "\n",
        "It’s worth to notice that MAZDA on the top place of aspirational brands, instead of BMW, Audi are mentioned a lot from out top scraping and brands lift. According to our further research, it’s mainly because the entry-level roadster produced by Mazda costs less than $30,000.\n",
        "\n",
        "Mazda MX-5 MIATA starts from 25,830 dollars and MIATA RF starts from 33,000 Dollars, with sleek and stylish exterior the price is almost invincible. BMW’s roadster is double the price.\n",
        "\n",
        "It happens that there is a similar case: No.2 in the list is Mitsubishi, crossovers start from 20,000 usd, luxurious Mitsubishi crossover is within 30,000 usd. Toyota in the list is because Lexus, Lexus IS and ES series are always on the all kind of top 10 entry level luxury cars rankings. Lexus IS starts from 39,050 usd. Infiniti, a brand from Nissan family, the famous Q50 starts from more affordable price 36,700 usd. Q50 also famous on its twin-turbo charged engine and roomy comfortable seating plus good safety score too. Compare to Mercedes Benz C -Class starting price 42,650 usd, Audi A4 starting price is 40,145 usd and BMW 3 Series which starts from 42,245 usd that entry level Lexus and Infiniti have great price advance.\n",
        "\n",
        "\n",
        "\n",
        "\n",
        "\n"
      ]
    },
    {
      "cell_type": "markdown",
      "metadata": {
        "id": "wqCukhndgfaV"
      },
      "source": [
        "**maintenance cost**\n",
        "\n",
        "Affordable maintenance and repairs price is very import for entry level car buyers. \n",
        "PepcriPal ranked Lexus in 6th place overall for its low ownership costs. It’s reported about 551 usd per year. However, on average, BMW owners can expect to pay between 150 usd to 400 usd per service every 10,000 miles. A major service can cost 1,000 usd to 3,000 usd or more. At the end of the day, owners pay about $1,000 to  1,700 per year for maintenance and repairs – higher than most brands.  \n",
        "\n",
        "\n",
        "**Satety**\n",
        "\n",
        "Volvo comes to the 3ed place of aspirational brand. Because of its good price point, quality and deeply rooted safety system reputation. For instance, Volvo S60’ s starting sale piece is 39,250 (under $40,000) with complete driving safety system: during reverse, avoid collisions, ease stress in busy traffic by warning driver first then auto braking or through emergency steering support if driver fails to react. These safety features may cost more money on the first-class luxury brands like BMW, Mercedes Benz as optional features.\n",
        "\n",
        "\n",
        "\n",
        "**New energy vehicles**\n",
        "\n",
        "**Gas-electric hybrid, all electric powertrains**\n",
        "\n",
        "Since TRW published its first patent for planetary gear hybrid systems in the 1960s, companies have poured money into the field. But Toyota was the first to commercialize such systems on a large scale and continue to invest in them. Lexus has unveiled the world's first luxury sedan using hybrid technology, the GS45h, to compete with the BMW 5 Series and Mercedes E-Class. It also introduced the L110 hybrid gearbox with a 3.5 V6 engine.\n",
        "Lexus was the first to sell hybrids in the luxury segment. No other luxury car brand (even combined them together) has sold as many hybrids as Toyota. And Lexus hybrid models cover FF, FR, AWD and other types. It not only achieves the balance of power and economy, but also has a good ride comfort. Therefore, when it comes to luxury brand hybrid power, Lexus will come to people’s mind first.\n",
        "On the other hand, Mazda MX-30EV SUV as an entry level luxury SUV offers a plug_in_hybrid variant,rear-hinged back doors(similar to those found on BMW i3 electric car). It is the first time the Japanese automaker has experiemented with an all-electric powertrain, and the sale price starts at 33470 usd.\n",
        "\n",
        "\n",
        "**other factor**\n",
        "\n",
        "Infotainment system\n",
        "\n",
        "\n",
        "\n",
        "\n",
        "\n",
        "\n",
        "\n",
        "\n",
        "\n"
      ]
    }
  ]
}