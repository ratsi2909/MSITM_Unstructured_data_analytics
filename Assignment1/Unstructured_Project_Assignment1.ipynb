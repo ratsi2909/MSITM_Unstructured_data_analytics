{
  "nbformat": 4,
  "nbformat_minor": 0,
  "metadata": {
    "colab": {
      "name": "Unstructured Project Assignment1.ipynb",
      "provenance": [],
      "collapsed_sections": []
    },
    "kernelspec": {
      "display_name": "Python 3",
      "language": "python",
      "name": "python3"
    },
    "language_info": {
      "codemirror_mode": {
        "name": "ipython",
        "version": 3
      },
      "file_extension": ".py",
      "mimetype": "text/x-python",
      "name": "python",
      "nbconvert_exporter": "python",
      "pygments_lexer": "ipython3",
      "version": "3.8.5"
    }
  },
  "cells": [
    {
      "cell_type": "markdown",
      "metadata": {
        "id": "WAUfOagen3ei"
      },
      "source": [
        "# **<font color=blue>Unstructured Data Analytics Assignment 1</font  >**\n",
        "\n",
        "\n",
        "### *Team: Danqing Wang, Gowtami Khambhampati, Alyssa Bae, Kevin McKinney, Shreya Bakshi, Rick Kim, Rathi Kannan*"
      ]
    },
    {
      "cell_type": "markdown",
      "metadata": {
        "id": "CfmEc_uoWyU1"
      },
      "source": [
        "We have chosen posts from years 2014 to 2020 for our analysis as they were the latest posts available on the provided forum. \n",
        "\n",
        "**Data Processing**\n",
        "\n",
        "It is important to note that we have excluded the following brands as they were discontinued during the years that the comments were written. Additionally, the comments containing these brands did not contain relevant aspirational mentions to build the analysis. Hence, we have made our judgement to remove data regarding the following brands:\n",
        "\n",
        "*   *Pontiac*: Defunct in 2010\n",
        "*   *Mercury*: Defunct in 2011\n",
        "*   *Suzuki*: Left USA in 2012\n",
        "*   *Saturn*: Defunct in 2010\n",
        "\n"
      ]
    },
    {
      "cell_type": "markdown",
      "metadata": {
        "id": "ITzVb7ennOhu"
      },
      "source": [
        "\n",
        "\n",
        "# **<font color=blue>Scraper: Fetching 5000 posts from Edmunds.</font>**\n",
        "Link: https://forums.edmunds.com/discussion/2864/general/x/entry-level-luxury-performance-sedans/p%7B%7D\n"
      ]
    },
    {
      "cell_type": "code",
      "metadata": {
        "colab": {
          "base_uri": "https://localhost:8080/"
        },
        "id": "AEA8ykV3nORS",
        "outputId": "4bc72493-c942-48b5-9a10-33cabdf8f2de"
      },
      "source": [
        "# Install Selenium\n",
        "!pip install selenium\n",
        "!apt-get -q update   #Used to handle installation and removal of softwares and libraries\n",
        "!apt install -yq chromium-chromedriver #ChromeDriver is a separate executable that Selenium WebDriver uses to control Chrome.\n",
        "!cp /usr/lib/chromium-browser/chromedriver /usr/bin\n",
        "\n",
        "import sys\n",
        "sys.path.insert(0,'/usr/lib/chromium-browser/chromedriver')\n",
        "from selenium import webdriver \n",
        "#WebDriver is a browser automation framework that works with open source APIs. \n",
        "#The framework operates by accepting commands, sending those commands to a browser, and interacting with applications.\n",
        "chrome_options = webdriver.ChromeOptions()\n",
        "chrome_options.add_argument('--headless')\n",
        "chrome_options.add_argument('--no-sandbox')\n",
        "chrome_options.add_argument('--disable-dev-shm-usage')"
      ],
      "execution_count": null,
      "outputs": [
        {
          "output_type": "stream",
          "name": "stdout",
          "text": [
            "Requirement already satisfied: selenium in /usr/local/lib/python3.7/dist-packages (3.141.0)\n",
            "Requirement already satisfied: urllib3 in /usr/local/lib/python3.7/dist-packages (from selenium) (1.24.3)\n",
            "Hit:1 https://cloud.r-project.org/bin/linux/ubuntu bionic-cran40/ InRelease\n",
            "Ign:2 https://developer.download.nvidia.com/compute/cuda/repos/ubuntu1804/x86_64  InRelease\n",
            "Hit:3 http://archive.ubuntu.com/ubuntu bionic InRelease\n",
            "Ign:4 https://developer.download.nvidia.com/compute/machine-learning/repos/ubuntu1804/x86_64  InRelease\n",
            "Hit:5 https://developer.download.nvidia.com/compute/cuda/repos/ubuntu1804/x86_64  Release\n",
            "Hit:6 http://ppa.launchpad.net/c2d4u.team/c2d4u4.0+/ubuntu bionic InRelease\n",
            "Hit:7 https://developer.download.nvidia.com/compute/machine-learning/repos/ubuntu1804/x86_64  Release\n",
            "Get:8 http://security.ubuntu.com/ubuntu bionic-security InRelease [88.7 kB]\n",
            "Get:9 http://archive.ubuntu.com/ubuntu bionic-updates InRelease [88.7 kB]\n",
            "Hit:10 http://ppa.launchpad.net/cran/libgit2/ubuntu bionic InRelease\n",
            "Hit:11 http://ppa.launchpad.net/deadsnakes/ppa/ubuntu bionic InRelease\n",
            "Get:12 http://archive.ubuntu.com/ubuntu bionic-backports InRelease [74.6 kB]\n",
            "Hit:13 http://ppa.launchpad.net/graphics-drivers/ppa/ubuntu bionic InRelease\n",
            "Get:16 http://archive.ubuntu.com/ubuntu bionic-updates/main amd64 Packages [2,800 kB]\n",
            "Fetched 3,052 kB in 2s (1,230 kB/s)\n",
            "Reading package lists...\n",
            "Reading package lists...\n",
            "Building dependency tree...\n",
            "Reading state information...\n",
            "chromium-chromedriver is already the newest version (93.0.4577.63-0ubuntu0.18.04.1).\n",
            "0 upgraded, 0 newly installed, 0 to remove and 37 not upgraded.\n",
            "cp: '/usr/lib/chromium-browser/chromedriver' and '/usr/bin/chromedriver' are the same file\n"
          ]
        }
      ]
    },
    {
      "cell_type": "code",
      "metadata": {
        "id": "iS7Q1akDnWWq"
      },
      "source": [
        "# Setting web driver\n",
        "wd = webdriver.Chrome('chromedriver',options=chrome_options)\n"
      ],
      "execution_count": null,
      "outputs": []
    },
    {
      "cell_type": "code",
      "metadata": {
        "colab": {
          "base_uri": "https://localhost:8080/"
        },
        "id": "-1v90mkDnYS6",
        "outputId": "2fb6b492-1f3c-4743-8f94-293742fe2719"
      },
      "source": [
        "import pandas as pd\n",
        "# Scraper Behavior:\n",
        "\n",
        "# Since the latest posts are located in the later parts of the pages (p 435 contains most recent comments),\n",
        "# the scraper pulls data from page 435 and makes its way down the pages. \n",
        "# e.g. 435 -> 434 -> 433... etc. until we achieve 5000 comments. \n",
        "\n",
        "# Variables \n",
        "page_num = 435 # Latest article page\n",
        "total_comment_count = 5000\n",
        "count = 0\n",
        "comments = pd.DataFrame(columns = ['Date','user_id','comments'])\n",
        "\n",
        "# Iterating through Pages (50 comments per page)\n",
        "while count < total_comment_count:\n",
        "\n",
        "  # Fetching routes \n",
        "  route = 'https://forums.edmunds.com/discussion/2864/general/x/entry-level-luxury-performance-sedans/p{}'.format(page_num) # setting page\n",
        "  wd.get(route)\n",
        "\n",
        "  # Getting ids  \n",
        "  comment_ids = []\n",
        "  ids = wd.find_elements_by_xpath(\"//*[contains(@id,'Comment_')]\")\n",
        "\n",
        "  # Storing ids\n",
        "  for i in ids:\n",
        "    comment_ids.append(i.get_attribute('id'))\n",
        "\n",
        "  # Looping through the page\n",
        "  for x in comment_ids:\n",
        "      #Extract dates from for each user on a page\n",
        "      user_date = wd.find_elements_by_xpath('//*[@id=\"' + x +'\"]/div/div[2]/div[2]/span[1]/a/time')[0]\n",
        "      date = user_date.get_attribute('title')\n",
        "\n",
        "      #Extract user ids from each user on a page\n",
        "      userid_element = wd.find_elements_by_xpath('//*[@id=\"' + x +'\"]/div/div[2]/div[1]/span[1]/a[2]')[0]\n",
        "      userid = userid_element.text\n",
        "\n",
        "      #Extract Message for each user on a page\n",
        "      user_message = wd.find_elements_by_xpath('//*[@id=\"' + x +'\"]/div/div[3]/div/div[1]')[0]\n",
        "\n",
        "      # Removes blockquote from text\n",
        "      quote = user_message.find_elements_by_tag_name('blockquote')\n",
        "\n",
        "      if len(quote) > 0:\n",
        "        quote_text = quote[0].text\n",
        "        comment = user_message.text\n",
        "        comment = comment.replace(quote_text,'')\n",
        "      \n",
        "      else:\n",
        "        comment = user_message.text\n",
        "                                    \n",
        "      #Adding date, userid and comment for each user in a dataframe    \n",
        "      comments.loc[len(comments)] = [date,userid,comment]\n",
        "      count +=1 \n",
        "\n",
        "  # Moving onto the next page\n",
        "  page_num -= 1\n",
        "\n",
        "# Final output\n",
        "print(comments)\n",
        "print(comments.shape[0])\n",
        "print('Final: ' + str(count))\n",
        "\n",
        "#count_volvo = 0\n",
        "#for i in range((comments.shape[0])): \n",
        "#  if ('Volvo' in comments.loc[i,'comments']) | ('volvo' in comments.loc[i,'comments']) :\n",
        "#      count_volvo += 1\n",
        "\n"
      ],
      "execution_count": null,
      "outputs": [
        {
          "output_type": "stream",
          "name": "stdout",
          "text": [
            "                           Date  ...                                           comments\n",
            "0     February 25, 2020 12:38PM  ...  \\nAnd, that's on top of any discount you negot...\n",
            "1     February 25, 2020 12:41PM  ...  Add $350 to any lease on a Kia if you are not ...\n",
            "2     February 25, 2020 12:44PM  ...  \\n\\nDid you hear about the Key FOB scam the de...\n",
            "3     February 25, 2020 12:47PM  ...  That's a jaw-dropping lease incentive. Amazing...\n",
            "4     February 25, 2020 12:50PM  ...  \\nI'm pretty sure that's the case with any cap...\n",
            "...                         ...  ...                                                ...\n",
            "5028      March 27, 2014 2:38PM  ...  \\nIn TX I've gone 2 years without a front plat...\n",
            "5029      March 27, 2014 5:08PM  ...  Got to love AZ, we do not need front plates......\n",
            "5030      March 27, 2014 5:09PM  ...  \\nYes, since you are on the street and the car...\n",
            "5031      March 27, 2014 6:49PM  ...  I see lots of single plates around here. I'm i...\n",
            "5032      March 28, 2014 1:47PM  ...  They cut no slack in NH. I had a plate fall of...\n",
            "\n",
            "[5033 rows x 3 columns]\n",
            "5033\n",
            "Final: 5033\n"
          ]
        }
      ]
    },
    {
      "cell_type": "code",
      "metadata": {
        "colab": {
          "base_uri": "https://localhost:8080/",
          "height": 51
        },
        "id": "5td0BL1lnbTF",
        "outputId": "b3577486-6292-4c07-b681-e7a286f35fa8"
      },
      "source": [
        "# Saving to CSV\n",
        "\n",
        "comments.to_csv(\"edmunds_5000_comments.csv\", sep=\"\\t\")\n",
        "!ls\n",
        "from google.colab import files\n",
        "files.download(\"edmunds_5000_comments.csv\")"
      ],
      "execution_count": null,
      "outputs": [
        {
          "output_type": "stream",
          "name": "stdout",
          "text": [
            " Attributes3.csv\t 'edmunds_5000_comments (1).csv'   sample_data\n",
            "'car models brands.csv'   edmunds_5000_comments.csv\n"
          ]
        },
        {
          "output_type": "display_data",
          "data": {
            "application/javascript": [
              "\n",
              "    async function download(id, filename, size) {\n",
              "      if (!google.colab.kernel.accessAllowed) {\n",
              "        return;\n",
              "      }\n",
              "      const div = document.createElement('div');\n",
              "      const label = document.createElement('label');\n",
              "      label.textContent = `Downloading \"${filename}\": `;\n",
              "      div.appendChild(label);\n",
              "      const progress = document.createElement('progress');\n",
              "      progress.max = size;\n",
              "      div.appendChild(progress);\n",
              "      document.body.appendChild(div);\n",
              "\n",
              "      const buffers = [];\n",
              "      let downloaded = 0;\n",
              "\n",
              "      const channel = await google.colab.kernel.comms.open(id);\n",
              "      // Send a message to notify the kernel that we're ready.\n",
              "      channel.send({})\n",
              "\n",
              "      for await (const message of channel.messages) {\n",
              "        // Send a message to notify the kernel that we're ready.\n",
              "        channel.send({})\n",
              "        if (message.buffers) {\n",
              "          for (const buffer of message.buffers) {\n",
              "            buffers.push(buffer);\n",
              "            downloaded += buffer.byteLength;\n",
              "            progress.value = downloaded;\n",
              "          }\n",
              "        }\n",
              "      }\n",
              "      const blob = new Blob(buffers, {type: 'application/binary'});\n",
              "      const a = document.createElement('a');\n",
              "      a.href = window.URL.createObjectURL(blob);\n",
              "      a.download = filename;\n",
              "      div.appendChild(a);\n",
              "      a.click();\n",
              "      div.remove();\n",
              "    }\n",
              "  "
            ],
            "text/plain": [
              "<IPython.core.display.Javascript object>"
            ]
          },
          "metadata": {}
        },
        {
          "output_type": "display_data",
          "data": {
            "application/javascript": [
              "download(\"download_326402b7-6821-4aaf-9299-f157a9e3be73\", \"edmunds_5000_comments.csv\", 2572511)"
            ],
            "text/plain": [
              "<IPython.core.display.Javascript object>"
            ]
          },
          "metadata": {}
        }
      ]
    },
    {
      "cell_type": "markdown",
      "metadata": {
        "id": "Kz06PX-AnHlW"
      },
      "source": [
        "# **<font color=blue>Task A: Test if the data support Zipf’s law</font>**"
      ]
    },
    {
      "cell_type": "code",
      "metadata": {
        "id": "wpugdWvujm9z"
      },
      "source": [
        "import pandas as pd\n",
        "import numpy as np\n",
        "import matplotlib.pyplot as plt\n",
        "import re\n",
        "from collections import Counter, OrderedDict\n",
        "import nltk\n",
        "from nltk.corpus import stopwords"
      ],
      "execution_count": null,
      "outputs": []
    },
    {
      "cell_type": "code",
      "metadata": {
        "colab": {
          "resources": {
            "http://localhost:8080/nbextensions/google.colab/files.js": {
              "data": "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",
              "ok": true,
              "headers": [
                [
                  "content-type",
                  "application/javascript"
                ]
              ],
              "status": 200,
              "status_text": ""
            }
          },
          "base_uri": "https://localhost:8080/",
          "height": 72
        },
        "id": "krr1o8uqkLII",
        "outputId": "8afc2125-1bb0-451e-bc89-7c6fd044fc28"
      },
      "source": [
        "# run this cell to upload files.  \n",
        "from google.colab import files\n",
        "uploaded = files.upload()"
      ],
      "execution_count": null,
      "outputs": [
        {
          "output_type": "display_data",
          "data": {
            "text/html": [
              "\n",
              "     <input type=\"file\" id=\"files-2daa2f75-e2bf-4305-a50d-5946eb5e01f0\" name=\"files[]\" multiple disabled\n",
              "        style=\"border:none\" />\n",
              "     <output id=\"result-2daa2f75-e2bf-4305-a50d-5946eb5e01f0\">\n",
              "      Upload widget is only available when the cell has been executed in the\n",
              "      current browser session. Please rerun this cell to enable.\n",
              "      </output>\n",
              "      <script src=\"/nbextensions/google.colab/files.js\"></script> "
            ],
            "text/plain": [
              "<IPython.core.display.HTML object>"
            ]
          },
          "metadata": {}
        },
        {
          "output_type": "stream",
          "name": "stdout",
          "text": [
            "Saving edmunds_5000_comments (2).csv to edmunds_5000_comments (2).csv\n"
          ]
        }
      ]
    },
    {
      "cell_type": "code",
      "metadata": {
        "colab": {
          "base_uri": "https://localhost:8080/",
          "height": 419
        },
        "id": "5yG-G8gCjm90",
        "outputId": "da841222-2d49-40e7-b060-e8953b63d2fd"
      },
      "source": [
        "# get edmunds comment file into a dataframe\n",
        "edmunds_data = pd.read_csv(\"edmunds_5000_comments.csv\",sep='\\t', index_col=0)\n",
        "df = pd.DataFrame(edmunds_data) \n",
        "df"
      ],
      "execution_count": null,
      "outputs": [
        {
          "output_type": "execute_result",
          "data": {
            "text/html": [
              "<div>\n",
              "<style scoped>\n",
              "    .dataframe tbody tr th:only-of-type {\n",
              "        vertical-align: middle;\n",
              "    }\n",
              "\n",
              "    .dataframe tbody tr th {\n",
              "        vertical-align: top;\n",
              "    }\n",
              "\n",
              "    .dataframe thead th {\n",
              "        text-align: right;\n",
              "    }\n",
              "</style>\n",
              "<table border=\"1\" class=\"dataframe\">\n",
              "  <thead>\n",
              "    <tr style=\"text-align: right;\">\n",
              "      <th></th>\n",
              "      <th>Date</th>\n",
              "      <th>user_id</th>\n",
              "      <th>comments</th>\n",
              "    </tr>\n",
              "  </thead>\n",
              "  <tbody>\n",
              "    <tr>\n",
              "      <th>0</th>\n",
              "      <td>February 25, 2020 12:38PM</td>\n",
              "      <td>Michaell</td>\n",
              "      <td>\\nAnd, that's on top of any discount you negot...</td>\n",
              "    </tr>\n",
              "    <tr>\n",
              "      <th>1</th>\n",
              "      <td>February 25, 2020 12:41PM</td>\n",
              "      <td>andres3</td>\n",
              "      <td>Add $350 to any lease on a Kia if you are not ...</td>\n",
              "    </tr>\n",
              "    <tr>\n",
              "      <th>2</th>\n",
              "      <td>February 25, 2020 12:44PM</td>\n",
              "      <td>andres3</td>\n",
              "      <td>\\n\\nDid you hear about the Key FOB scam the de...</td>\n",
              "    </tr>\n",
              "    <tr>\n",
              "      <th>3</th>\n",
              "      <td>February 25, 2020 12:47PM</td>\n",
              "      <td>tjc78</td>\n",
              "      <td>That's a jaw-dropping lease incentive. Amazing...</td>\n",
              "    </tr>\n",
              "    <tr>\n",
              "      <th>4</th>\n",
              "      <td>February 25, 2020 12:50PM</td>\n",
              "      <td>Michaell</td>\n",
              "      <td>\\nI'm pretty sure that's the case with any cap...</td>\n",
              "    </tr>\n",
              "    <tr>\n",
              "      <th>...</th>\n",
              "      <td>...</td>\n",
              "      <td>...</td>\n",
              "      <td>...</td>\n",
              "    </tr>\n",
              "    <tr>\n",
              "      <th>5028</th>\n",
              "      <td>March 27, 2014 2:38PM</td>\n",
              "      <td>ivan_99</td>\n",
              "      <td>\\nIn TX I've gone 2 years without a front plat...</td>\n",
              "    </tr>\n",
              "    <tr>\n",
              "      <th>5029</th>\n",
              "      <td>March 27, 2014 5:08PM</td>\n",
              "      <td>flightnurse</td>\n",
              "      <td>Got to love AZ, we do not need front plates......</td>\n",
              "    </tr>\n",
              "    <tr>\n",
              "      <th>5030</th>\n",
              "      <td>March 27, 2014 5:09PM</td>\n",
              "      <td>flightnurse</td>\n",
              "      <td>\\nYes, since you are on the street and the car...</td>\n",
              "    </tr>\n",
              "    <tr>\n",
              "      <th>5031</th>\n",
              "      <td>March 27, 2014 6:49PM</td>\n",
              "      <td>stickguy</td>\n",
              "      <td>I see lots of single plates around here. I'm i...</td>\n",
              "    </tr>\n",
              "    <tr>\n",
              "      <th>5032</th>\n",
              "      <td>March 28, 2014 1:47PM</td>\n",
              "      <td>andys120</td>\n",
              "      <td>They cut no slack in NH. I had a plate fall of...</td>\n",
              "    </tr>\n",
              "  </tbody>\n",
              "</table>\n",
              "<p>5033 rows × 3 columns</p>\n",
              "</div>"
            ],
            "text/plain": [
              "                           Date  ...                                           comments\n",
              "0     February 25, 2020 12:38PM  ...  \\nAnd, that's on top of any discount you negot...\n",
              "1     February 25, 2020 12:41PM  ...  Add $350 to any lease on a Kia if you are not ...\n",
              "2     February 25, 2020 12:44PM  ...  \\n\\nDid you hear about the Key FOB scam the de...\n",
              "3     February 25, 2020 12:47PM  ...  That's a jaw-dropping lease incentive. Amazing...\n",
              "4     February 25, 2020 12:50PM  ...  \\nI'm pretty sure that's the case with any cap...\n",
              "...                         ...  ...                                                ...\n",
              "5028      March 27, 2014 2:38PM  ...  \\nIn TX I've gone 2 years without a front plat...\n",
              "5029      March 27, 2014 5:08PM  ...  Got to love AZ, we do not need front plates......\n",
              "5030      March 27, 2014 5:09PM  ...  \\nYes, since you are on the street and the car...\n",
              "5031      March 27, 2014 6:49PM  ...  I see lots of single plates around here. I'm i...\n",
              "5032      March 28, 2014 1:47PM  ...  They cut no slack in NH. I had a plate fall of...\n",
              "\n",
              "[5033 rows x 3 columns]"
            ]
          },
          "metadata": {},
          "execution_count": 60
        }
      ]
    },
    {
      "cell_type": "code",
      "metadata": {
        "colab": {
          "base_uri": "https://localhost:8080/"
        },
        "id": "HcBpR3T7jm92",
        "outputId": "5ec608fc-8aea-4327-dff7-91eb7a939a64"
      },
      "source": [
        "# get stopwords from nltk library\n",
        "nltk.download('stopwords')\n",
        "stopword = stopwords.words('english')"
      ],
      "execution_count": null,
      "outputs": [
        {
          "output_type": "stream",
          "name": "stdout",
          "text": [
            "[nltk_data] Downloading package stopwords to /root/nltk_data...\n",
            "[nltk_data]   Package stopwords is already up-to-date!\n"
          ]
        }
      ]
    },
    {
      "cell_type": "code",
      "metadata": {
        "id": "Ncpuf2t5nyFt"
      },
      "source": [
        "# create a dictionary of words and their frequency.  \n",
        "word_dictionary = Counter()\n",
        "all_words = []\n",
        "word_dict = Counter()\n",
        "def convert_func(comments):\n",
        "    for line in comments:\n",
        "        line = \" \".join(str(x) for x in line).replace('(', '').replace(')', '') \n",
        "        all_words.extend(re.sub(r'[^a-zA-Z0-9-]', ' ', line).split())\n",
        "        word_dict.update(Counter(all_words))\n",
        "    return word_dict\n",
        " \n",
        " \n",
        "top_100 = convert_func(df.values).most_common(100)\n"
      ],
      "execution_count": null,
      "outputs": []
    },
    {
      "cell_type": "code",
      "metadata": {
        "colab": {
          "base_uri": "https://localhost:8080/",
          "height": 265
        },
        "id": "ezHrcgjTena-",
        "outputId": "77e0186c-ec09-479f-c8db-d2357da6b202"
      },
      "source": [
        "# Plot the most common 100 words in the data against the theoretical prediction of the law.\n",
        "import math\n",
        "import matplotlib\n",
        "\n",
        "logInds = []\n",
        "logCounts = []\n",
        "rank_word_count = []\n",
        "\n",
        "for (ind, (word, count)) in enumerate(top_100):\n",
        "    ind = ind+1\n",
        "    rank_word_count.append((ind,word,count))\n",
        "    logInds.append(math.log(ind))\n",
        "    logCounts.append(math.log(count))\n",
        "\n",
        "plt.plot(logInds,logCounts,'ro')\n",
        "plt.show()"
      ],
      "execution_count": null,
      "outputs": [
        {
          "output_type": "display_data",
          "data": {
            "image/png": "[encoded data removed]",
            "text/plain": [
              "<Figure size 432x288 with 1 Axes>"
            ]
          },
          "metadata": {
            "needs_background": "light"
          }
        }
      ]
    },
    {
      "cell_type": "code",
      "metadata": {
        "colab": {
          "base_uri": "https://localhost:8080/"
        },
        "id": "avaCP-XYhrgu",
        "outputId": "9e42381b-38e2-4756-cfc3-c61599948eff"
      },
      "source": [
        " # test if the data support Zipf’s law \n",
        " # Note how when we move by approximately 3x rank, the frequency goes down by about 1/3 thus proving the data supports Zipf's law\n",
        "print(rank_word_count[10])\n",
        "print(rank_word_count[30])\n",
        "print(rank_word_count[90])\n",
        " "
      ],
      "execution_count": null,
      "outputs": [
        {
          "output_type": "stream",
          "name": "stdout",
          "text": [
            "(11, 'for', 10108579)\n",
            "(31, 'an', 4057931)\n",
            "(91, 'by', 1686210)\n"
          ]
        }
      ]
    },
    {
      "cell_type": "code",
      "metadata": {
        "colab": {
          "base_uri": "https://localhost:8080/"
        },
        "id": "F_oMN2Ugef3u",
        "outputId": "22be470e-f266-4529-9a60-d1766d369b2c"
      },
      "source": [
        "# test if the data support Zipf’s law - using linear regression - expected result: b1 is close to -1.0\n",
        "\n",
        "import sklearn as sklearn\n",
        "from sklearn import linear_model\n",
        " \n",
        "X = np.c_[logInds]\n",
        "y = np.c_[logCounts]\n",
        "\n",
        "model = linear_model.LinearRegression()\n",
        "model.fit(X,y)\n",
        "b0, b1 = model.intercept_[0], model.coef_[0][0]\n",
        "b0,b1\n",
        "                           "
      ],
      "execution_count": null,
      "outputs": [
        {
          "output_type": "execute_result",
          "data": {
            "text/plain": [
              "(17.936038914625975, -0.7893801369453494)"
            ]
          },
          "metadata": {},
          "execution_count": 66
        }
      ]
    },
    {
      "cell_type": "markdown",
      "metadata": {
        "id": "ISh-6oBcJnjt"
      },
      "source": [
        "# **<font color=blue>Task B: Find the top 10 brands from frequency count</font>**"
      ]
    },
    {
      "cell_type": "code",
      "metadata": {
        "colab": {
          "resources": {
            "http://localhost:8080/nbextensions/google.colab/files.js": {
              "data": "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",
              "ok": true,
              "headers": [
                [
                  "content-type",
                  "application/javascript"
                ]
              ],
              "status": 200,
              "status_text": ""
            }
          },
          "base_uri": "https://localhost:8080/",
          "height": 72
        },
        "id": "L474IWXf40he",
        "outputId": "7472e3b0-4a42-4e07-a2f0-cadb8a8c0b0f"
      },
      "source": [
        "# run this cell to upload car models.csv\n",
        "from google.colab import files\n",
        "uploaded = files.upload()"
      ],
      "execution_count": null,
      "outputs": [
        {
          "output_type": "display_data",
          "data": {
            "text/html": [
              "\n",
              "     <input type=\"file\" id=\"files-bfd5ef9f-1df7-4099-92b2-2f30976ae881\" name=\"files[]\" multiple disabled\n",
              "        style=\"border:none\" />\n",
              "     <output id=\"result-bfd5ef9f-1df7-4099-92b2-2f30976ae881\">\n",
              "      Upload widget is only available when the cell has been executed in the\n",
              "      current browser session. Please rerun this cell to enable.\n",
              "      </output>\n",
              "      <script src=\"/nbextensions/google.colab/files.js\"></script> "
            ],
            "text/plain": [
              "<IPython.core.display.HTML object>"
            ]
          },
          "metadata": {}
        },
        {
          "output_type": "stream",
          "name": "stdout",
          "text": [
            "Saving car models brands.csv to car models brands (1).csv\n"
          ]
        }
      ]
    },
    {
      "cell_type": "code",
      "metadata": {
        "colab": {
          "base_uri": "https://localhost:8080/"
        },
        "id": "yjSW5iSc9mGP",
        "outputId": "1427d25f-fabe-4b39-f5b7-1430599f2a1a"
      },
      "source": [
        "car_data = pd.read_csv(\"car models brands.csv\", header=None, names=['Brand','Model'])\n",
        "\n",
        "car_data = car_data[car_data[\"Brand\"].str.contains(\"car|problem|seat|sedan|pontiac|suzuki|saturn|mercury\")==False]\n",
        "print(car_data)\n",
        "models_list = car_data['Model'].tolist()"
      ],
      "execution_count": null,
      "outputs": [
        {
          "output_type": "stream",
          "name": "stdout",
          "text": [
            "     Brand    Model\n",
            "0    Brand    Model\n",
            "1    acura  integra\n",
            "2    acura   legend\n",
            "3    acura    vigor\n",
            "4    acura      rlx\n",
            "..     ...      ...\n",
            "526  volvo     xc90\n",
            "527  volvo      s60\n",
            "528  volvo      s80\n",
            "529  volvo      v60\n",
            "530  volvo      c70\n",
            "\n",
            "[478 rows x 2 columns]\n"
          ]
        }
      ]
    },
    {
      "cell_type": "code",
      "metadata": {
        "colab": {
          "base_uri": "https://localhost:8080/"
        },
        "id": "ASeSgPosVtFm",
        "outputId": "41ec9e18-5163-4865-c922-24b014ff50bc"
      },
      "source": [
        "import nltk \n",
        "nltk.download('punkt')\n",
        "\n",
        "df.dropna(inplace=True)\n",
        "\n",
        "df['t'] = df['comments'].apply(nltk.tokenize.word_tokenize)"
      ],
      "execution_count": null,
      "outputs": [
        {
          "output_type": "stream",
          "name": "stdout",
          "text": [
            "[nltk_data] Downloading package punkt to /root/nltk_data...\n",
            "[nltk_data]   Package punkt is already up-to-date!\n"
          ]
        }
      ]
    },
    {
      "cell_type": "code",
      "metadata": {
        "id": "dTAvnxD9VtI4"
      },
      "source": [
        "def token_cleaner(row):\n",
        "    clean_tokens = []\n",
        "    list_row = list(row) #Set --> List\n",
        "    for word in list_row:\n",
        "        word = word.lower()\n",
        "        if word in models_list: #Change any models that appear to their corresponding Brands\n",
        "            word = car_data['Brand'][car_data['Model']==word].tolist()[0]\n",
        "            if word not in clean_tokens:\n",
        "                clean_tokens.append(word.lower())\n",
        "        else: \n",
        "            if word not in clean_tokens: \n",
        "                clean_tokens.append(word.lower())\n",
        "    clean_tokens = [x.lower() for x in clean_tokens]\n",
        "    return clean_tokens\n",
        "\n",
        "df['t'] = df['t'].apply(token_cleaner)\n",
        "# print(comments['Tokens'][0:10])\n"
      ],
      "execution_count": null,
      "outputs": []
    },
    {
      "cell_type": "code",
      "metadata": {
        "id": "PWyzDYlRVtL-"
      },
      "source": [
        "cars_dict = dict()\n",
        "\n",
        "for row in df['t']:\n",
        "    list_row = list(row) #Set --> List\n",
        "    for word in row:\n",
        "        word = word.lower() #Remove any capitalization\n",
        "        if word in models_list: #Change any models that appear to their corresponding Brands\n",
        "            word = car_data['Brand'][car_data['Model']==word].tolist()[0]\n",
        "        if word in cars_dict:\n",
        "            cars_dict[word] += 1\n",
        "        else:\n",
        "            cars_dict[word] = 1"
      ],
      "execution_count": null,
      "outputs": []
    },
    {
      "cell_type": "code",
      "metadata": {
        "colab": {
          "base_uri": "https://localhost:8080/",
          "height": 376
        },
        "id": "vXDsHN2CVyOs",
        "outputId": "7a15606b-ee90-4755-8be4-59e48cca82d2"
      },
      "source": [
        "top_makes = dict()\n",
        "\n",
        "for i in cars_dict: \n",
        "    if i in list(set(car_data['Brand'])):\n",
        "        top_makes[i] = cars_dict[i]\n",
        "\n",
        "k = Counter(top_makes) \n",
        "high = k.most_common(10) \n",
        "\n",
        "top_brands = []\n",
        "for i in high:\n",
        "    top_brands.append(i[0])\n",
        "\n",
        "df_freq = pd.DataFrame(index=top_brands, columns=['Frequency'])\n",
        "\n",
        "for i in range(0,len(high)):\n",
        "    df_freq['Frequency'][i] = high[i][1]\n",
        "\n",
        "print('Brands with Highest Frequency:')\n",
        "display(df_freq)"
      ],
      "execution_count": null,
      "outputs": [
        {
          "output_type": "stream",
          "name": "stdout",
          "text": [
            "Brands with Highest Frequency:\n"
          ]
        },
        {
          "output_type": "display_data",
          "data": {
            "text/html": [
              "<div>\n",
              "<style scoped>\n",
              "    .dataframe tbody tr th:only-of-type {\n",
              "        vertical-align: middle;\n",
              "    }\n",
              "\n",
              "    .dataframe tbody tr th {\n",
              "        vertical-align: top;\n",
              "    }\n",
              "\n",
              "    .dataframe thead th {\n",
              "        text-align: right;\n",
              "    }\n",
              "</style>\n",
              "<table border=\"1\" class=\"dataframe\">\n",
              "  <thead>\n",
              "    <tr style=\"text-align: right;\">\n",
              "      <th></th>\n",
              "      <th>Frequency</th>\n",
              "    </tr>\n",
              "  </thead>\n",
              "  <tbody>\n",
              "    <tr>\n",
              "      <th>bmw</th>\n",
              "      <td>1036</td>\n",
              "    </tr>\n",
              "    <tr>\n",
              "      <th>audi</th>\n",
              "      <td>805</td>\n",
              "    </tr>\n",
              "    <tr>\n",
              "      <th>acura</th>\n",
              "      <td>510</td>\n",
              "    </tr>\n",
              "    <tr>\n",
              "      <th>honda</th>\n",
              "      <td>423</td>\n",
              "    </tr>\n",
              "    <tr>\n",
              "      <th>volkswagen</th>\n",
              "      <td>256</td>\n",
              "    </tr>\n",
              "    <tr>\n",
              "      <th>mercedes benz</th>\n",
              "      <td>243</td>\n",
              "    </tr>\n",
              "    <tr>\n",
              "      <th>infiniti</th>\n",
              "      <td>232</td>\n",
              "    </tr>\n",
              "    <tr>\n",
              "      <th>cadillac</th>\n",
              "      <td>210</td>\n",
              "    </tr>\n",
              "    <tr>\n",
              "      <th>hyundai</th>\n",
              "      <td>184</td>\n",
              "    </tr>\n",
              "    <tr>\n",
              "      <th>ford</th>\n",
              "      <td>165</td>\n",
              "    </tr>\n",
              "  </tbody>\n",
              "</table>\n",
              "</div>"
            ],
            "text/plain": [
              "              Frequency\n",
              "bmw                1036\n",
              "audi                805\n",
              "acura               510\n",
              "honda               423\n",
              "volkswagen          256\n",
              "mercedes benz       243\n",
              "infiniti            232\n",
              "cadillac            210\n",
              "hyundai             184\n",
              "ford                165"
            ]
          },
          "metadata": {}
        }
      ]
    },
    {
      "cell_type": "markdown",
      "metadata": {
        "id": "1FUNEWwGJ-Wt"
      },
      "source": [
        "#  **<font color=blue>Task C: Calculate lift ratios</font>**  "
      ]
    },
    {
      "cell_type": "code",
      "metadata": {
        "colab": {
          "base_uri": "https://localhost:8080/"
        },
        "id": "k6w5Scs2VyS8",
        "outputId": "f22768f1-15f5-44e9-ecd8-68e1dbac6989"
      },
      "source": [
        "import itertools\n",
        "top_brand_combos = list(itertools.combinations(top_brands,2))\n",
        "print(top_brand_combos)"
      ],
      "execution_count": null,
      "outputs": [
        {
          "output_type": "stream",
          "name": "stdout",
          "text": [
            "[('bmw', 'audi'), ('bmw', 'acura'), ('bmw', 'honda'), ('bmw', 'volkswagen'), ('bmw', 'mercedes benz'), ('bmw', 'infiniti'), ('bmw', 'cadillac'), ('bmw', 'hyundai'), ('bmw', 'ford'), ('audi', 'acura'), ('audi', 'honda'), ('audi', 'volkswagen'), ('audi', 'mercedes benz'), ('audi', 'infiniti'), ('audi', 'cadillac'), ('audi', 'hyundai'), ('audi', 'ford'), ('acura', 'honda'), ('acura', 'volkswagen'), ('acura', 'mercedes benz'), ('acura', 'infiniti'), ('acura', 'cadillac'), ('acura', 'hyundai'), ('acura', 'ford'), ('honda', 'volkswagen'), ('honda', 'mercedes benz'), ('honda', 'infiniti'), ('honda', 'cadillac'), ('honda', 'hyundai'), ('honda', 'ford'), ('volkswagen', 'mercedes benz'), ('volkswagen', 'infiniti'), ('volkswagen', 'cadillac'), ('volkswagen', 'hyundai'), ('volkswagen', 'ford'), ('mercedes benz', 'infiniti'), ('mercedes benz', 'cadillac'), ('mercedes benz', 'hyundai'), ('mercedes benz', 'ford'), ('infiniti', 'cadillac'), ('infiniti', 'hyundai'), ('infiniti', 'ford'), ('cadillac', 'hyundai'), ('cadillac', 'ford'), ('hyundai', 'ford')]\n"
          ]
        }
      ]
    },
    {
      "cell_type": "code",
      "metadata": {
        "id": "GUvFOO9uVyWn"
      },
      "source": [
        "#Define a function that will calculate Lift\n",
        "def liftCalc(word1,word2):\n",
        "    w1freq = sum(df.apply(lambda x: word1 in x['t'], axis=1))\n",
        "    w2freq = sum(df.apply(lambda x: word2 in x['t'], axis=1))\n",
        "    bothfreq = sum(df.apply(lambda x: word1 in x['t'] and word2 in x['t'], axis=1))\n",
        "    return float(bothfreq/len(df))/((float(w1freq)/len(df))*(float(w2freq)/len(df)))"
      ],
      "execution_count": null,
      "outputs": []
    },
    {
      "cell_type": "code",
      "metadata": {
        "id": "aIih-8OTVyao"
      },
      "source": [
        "#Initialize empty dictionary for lift values\n",
        "brand_lifts = dict()\n",
        "\n",
        "#iterate over brand combinations, calculate lift, save to dictionary\n",
        "for i in range(0,len(top_brand_combos)): \n",
        "    a,b = top_brand_combos[i]\n",
        "    brands = (a,b)\n",
        "    lift = liftCalc(a,b)\n",
        "    brand_lifts[brands] = lift"
      ],
      "execution_count": null,
      "outputs": []
    },
    {
      "cell_type": "code",
      "metadata": {
        "id": "GEjzYoElVyeK"
      },
      "source": [
        "df_lifts = pd.DataFrame(columns=top_brands,index=top_brands)\n",
        "for brand in top_brands: \n",
        "    df_lifts[brand][brand] = '-'\n",
        "for brands in brand_lifts:\n",
        "    a,b = brands\n",
        "    df_lifts[a][b] = '-'\n",
        "    df_lifts[b][a] = (brand_lifts[brands])"
      ],
      "execution_count": null,
      "outputs": []
    },
    {
      "cell_type": "code",
      "metadata": {
        "colab": {
          "base_uri": "https://localhost:8080/",
          "height": 359
        },
        "id": "GPWRSRvNVtOs",
        "outputId": "d3f717dd-8786-4bcd-af30-5fba5627d10c"
      },
      "source": [
        "#Lift values for brands\n",
        "df_lifts"
      ],
      "execution_count": null,
      "outputs": [
        {
          "output_type": "execute_result",
          "data": {
            "text/html": [
              "<div>\n",
              "<style scoped>\n",
              "    .dataframe tbody tr th:only-of-type {\n",
              "        vertical-align: middle;\n",
              "    }\n",
              "\n",
              "    .dataframe tbody tr th {\n",
              "        vertical-align: top;\n",
              "    }\n",
              "\n",
              "    .dataframe thead th {\n",
              "        text-align: right;\n",
              "    }\n",
              "</style>\n",
              "<table border=\"1\" class=\"dataframe\">\n",
              "  <thead>\n",
              "    <tr style=\"text-align: right;\">\n",
              "      <th></th>\n",
              "      <th>bmw</th>\n",
              "      <th>audi</th>\n",
              "      <th>acura</th>\n",
              "      <th>honda</th>\n",
              "      <th>volkswagen</th>\n",
              "      <th>mercedes benz</th>\n",
              "      <th>infiniti</th>\n",
              "      <th>cadillac</th>\n",
              "      <th>hyundai</th>\n",
              "      <th>ford</th>\n",
              "    </tr>\n",
              "  </thead>\n",
              "  <tbody>\n",
              "    <tr>\n",
              "      <th>bmw</th>\n",
              "      <td>-</td>\n",
              "      <td>2.0373</td>\n",
              "      <td>1.4893</td>\n",
              "      <td>1.21232</td>\n",
              "      <td>1.28505</td>\n",
              "      <td>3.62838</td>\n",
              "      <td>2.10613</td>\n",
              "      <td>2.11943</td>\n",
              "      <td>1.44609</td>\n",
              "      <td>1.55397</td>\n",
              "    </tr>\n",
              "    <tr>\n",
              "      <th>audi</th>\n",
              "      <td>-</td>\n",
              "      <td>-</td>\n",
              "      <td>2.2829</td>\n",
              "      <td>1.85458</td>\n",
              "      <td>2.57799</td>\n",
              "      <td>4.21899</td>\n",
              "      <td>3.05937</td>\n",
              "      <td>3.23164</td>\n",
              "      <td>1.79338</td>\n",
              "      <td>1.28295</td>\n",
              "    </tr>\n",
              "    <tr>\n",
              "      <th>acura</th>\n",
              "      <td>-</td>\n",
              "      <td>-</td>\n",
              "      <td>-</td>\n",
              "      <td>3.62431</td>\n",
              "      <td>1.3436</td>\n",
              "      <td>3.68529</td>\n",
              "      <td>4.40541</td>\n",
              "      <td>2.71425</td>\n",
              "      <td>1.86935</td>\n",
              "      <td>1.19121</td>\n",
              "    </tr>\n",
              "    <tr>\n",
              "      <th>honda</th>\n",
              "      <td>-</td>\n",
              "      <td>-</td>\n",
              "      <td>-</td>\n",
              "      <td>-</td>\n",
              "      <td>2.17535</td>\n",
              "      <td>2.02675</td>\n",
              "      <td>2.09395</td>\n",
              "      <td>1.74909</td>\n",
              "      <td>2.31822</td>\n",
              "      <td>1.86707</td>\n",
              "    </tr>\n",
              "    <tr>\n",
              "      <th>volkswagen</th>\n",
              "      <td>-</td>\n",
              "      <td>-</td>\n",
              "      <td>-</td>\n",
              "      <td>-</td>\n",
              "      <td>-</td>\n",
              "      <td>2.44727</td>\n",
              "      <td>1.68777</td>\n",
              "      <td>1.39844</td>\n",
              "      <td>2.02165</td>\n",
              "      <td>2.72907</td>\n",
              "    </tr>\n",
              "    <tr>\n",
              "      <th>mercedes benz</th>\n",
              "      <td>-</td>\n",
              "      <td>-</td>\n",
              "      <td>-</td>\n",
              "      <td>-</td>\n",
              "      <td>-</td>\n",
              "      <td>-</td>\n",
              "      <td>5.54299</td>\n",
              "      <td>7.22281</td>\n",
              "      <td>3.7633</td>\n",
              "      <td>2.99761</td>\n",
              "    </tr>\n",
              "    <tr>\n",
              "      <th>infiniti</th>\n",
              "      <td>-</td>\n",
              "      <td>-</td>\n",
              "      <td>-</td>\n",
              "      <td>-</td>\n",
              "      <td>-</td>\n",
              "      <td>-</td>\n",
              "      <td>-</td>\n",
              "      <td>3.9092</td>\n",
              "      <td>2.70043</td>\n",
              "      <td>2.09488</td>\n",
              "    </tr>\n",
              "    <tr>\n",
              "      <th>cadillac</th>\n",
              "      <td>-</td>\n",
              "      <td>-</td>\n",
              "      <td>-</td>\n",
              "      <td>-</td>\n",
              "      <td>-</td>\n",
              "      <td>-</td>\n",
              "      <td>-</td>\n",
              "      <td>-</td>\n",
              "      <td>2.5942</td>\n",
              "      <td>2.31434</td>\n",
              "    </tr>\n",
              "    <tr>\n",
              "      <th>hyundai</th>\n",
              "      <td>-</td>\n",
              "      <td>-</td>\n",
              "      <td>-</td>\n",
              "      <td>-</td>\n",
              "      <td>-</td>\n",
              "      <td>-</td>\n",
              "      <td>-</td>\n",
              "      <td>-</td>\n",
              "      <td>-</td>\n",
              "      <td>2.14611</td>\n",
              "    </tr>\n",
              "    <tr>\n",
              "      <th>ford</th>\n",
              "      <td>-</td>\n",
              "      <td>-</td>\n",
              "      <td>-</td>\n",
              "      <td>-</td>\n",
              "      <td>-</td>\n",
              "      <td>-</td>\n",
              "      <td>-</td>\n",
              "      <td>-</td>\n",
              "      <td>-</td>\n",
              "      <td>-</td>\n",
              "    </tr>\n",
              "  </tbody>\n",
              "</table>\n",
              "</div>"
            ],
            "text/plain": [
              "              bmw    audi   acura    honda  ... infiniti cadillac  hyundai     ford\n",
              "bmw             -  2.0373  1.4893  1.21232  ...  2.10613  2.11943  1.44609  1.55397\n",
              "audi            -       -  2.2829  1.85458  ...  3.05937  3.23164  1.79338  1.28295\n",
              "acura           -       -       -  3.62431  ...  4.40541  2.71425  1.86935  1.19121\n",
              "honda           -       -       -        -  ...  2.09395  1.74909  2.31822  1.86707\n",
              "volkswagen      -       -       -        -  ...  1.68777  1.39844  2.02165  2.72907\n",
              "mercedes benz   -       -       -        -  ...  5.54299  7.22281   3.7633  2.99761\n",
              "infiniti        -       -       -        -  ...        -   3.9092  2.70043  2.09488\n",
              "cadillac        -       -       -        -  ...        -        -   2.5942  2.31434\n",
              "hyundai         -       -       -        -  ...        -        -        -  2.14611\n",
              "ford            -       -       -        -  ...        -        -        -        -\n",
              "\n",
              "[10 rows x 10 columns]"
            ]
          },
          "metadata": {},
          "execution_count": 77
        }
      ]
    },
    {
      "cell_type": "code",
      "metadata": {
        "colab": {
          "base_uri": "https://localhost:8080/"
        },
        "id": "xuHQ99U0VtRi",
        "outputId": "c4d38dd5-2102-444b-d2a2-1bbf5d6cba8a"
      },
      "source": [
        "d = Counter(brand_lifts)\n",
        "\n",
        "print('Brand Combinations With Highest Lift:')\n",
        "for k, v in d.most_common(10):\n",
        "    print('%s: %.6f' % (k, v))"
      ],
      "execution_count": null,
      "outputs": [
        {
          "output_type": "stream",
          "name": "stdout",
          "text": [
            "Brand Combinations With Highest Lift:\n",
            "('mercedes benz', 'cadillac'): 7.222807\n",
            "('mercedes benz', 'infiniti'): 5.542990\n",
            "('acura', 'infiniti'): 4.405409\n",
            "('audi', 'mercedes benz'): 4.218993\n",
            "('infiniti', 'cadillac'): 3.909195\n",
            "('mercedes benz', 'hyundai'): 3.763301\n",
            "('acura', 'mercedes benz'): 3.685294\n",
            "('bmw', 'mercedes benz'): 3.628378\n",
            "('acura', 'honda'): 3.624308\n",
            "('audi', 'cadillac'): 3.231636\n"
          ]
        }
      ]
    },
    {
      "cell_type": "code",
      "metadata": {
        "colab": {
          "base_uri": "https://localhost:8080/"
        },
        "id": "RF6nAgqYVtUb",
        "outputId": "d671eb35-1146-4687-f508-21239641b480"
      },
      "source": [
        "print( 'Brand Combinations With Lowest Lift:')\n",
        "for k, v in d.most_common()[-11:-1]:\n",
        "    print('%s: %.6f' % (k, v))"
      ],
      "execution_count": null,
      "outputs": [
        {
          "output_type": "stream",
          "name": "stdout",
          "text": [
            "Brand Combinations With Lowest Lift:\n",
            "('honda', 'cadillac'): 1.749094\n",
            "('volkswagen', 'infiniti'): 1.687769\n",
            "('bmw', 'ford'): 1.553972\n",
            "('bmw', 'acura'): 1.489295\n",
            "('bmw', 'hyundai'): 1.446093\n",
            "('volkswagen', 'cadillac'): 1.398438\n",
            "('acura', 'volkswagen'): 1.343597\n",
            "('bmw', 'volkswagen'): 1.285051\n",
            "('audi', 'ford'): 1.282951\n",
            "('bmw', 'honda'): 1.212319\n"
          ]
        }
      ]
    },
    {
      "cell_type": "markdown",
      "metadata": {
        "id": "Yh-YORapG2Jv"
      },
      "source": [
        "# **<font color=blue>Task D: Show the brands on a multi-dimensional scaling (MDS) map</font>**"
      ]
    },
    {
      "cell_type": "code",
      "metadata": {
        "id": "zrp8-VkyVtXi"
      },
      "source": [
        "top_brand_lifts = pd.DataFrame(columns=top_brands,index=top_brands)"
      ],
      "execution_count": null,
      "outputs": []
    },
    {
      "cell_type": "code",
      "metadata": {
        "id": "4rOeugaGWV1f"
      },
      "source": [
        "for brands in brand_lifts:\n",
        "    a,b = brands\n",
        "    top_brand_lifts[a][b] = (1/brand_lifts[brands])\n",
        "    top_brand_lifts[b][a] = (1/brand_lifts[brands])"
      ],
      "execution_count": null,
      "outputs": []
    },
    {
      "cell_type": "code",
      "metadata": {
        "id": "DF1SFxPiWV4n"
      },
      "source": [
        "for brand in top_brands: \n",
        "    top_brand_lifts[brand][brand] = 0"
      ],
      "execution_count": null,
      "outputs": []
    },
    {
      "cell_type": "code",
      "metadata": {
        "colab": {
          "base_uri": "https://localhost:8080/",
          "height": 359
        },
        "id": "wqFj-EraWV73",
        "outputId": "574bd000-0bbe-4062-a26b-8fb7e61517e5"
      },
      "source": [
        "top_brand_lifts"
      ],
      "execution_count": null,
      "outputs": [
        {
          "output_type": "execute_result",
          "data": {
            "text/html": [
              "<div>\n",
              "<style scoped>\n",
              "    .dataframe tbody tr th:only-of-type {\n",
              "        vertical-align: middle;\n",
              "    }\n",
              "\n",
              "    .dataframe tbody tr th {\n",
              "        vertical-align: top;\n",
              "    }\n",
              "\n",
              "    .dataframe thead th {\n",
              "        text-align: right;\n",
              "    }\n",
              "</style>\n",
              "<table border=\"1\" class=\"dataframe\">\n",
              "  <thead>\n",
              "    <tr style=\"text-align: right;\">\n",
              "      <th></th>\n",
              "      <th>bmw</th>\n",
              "      <th>audi</th>\n",
              "      <th>acura</th>\n",
              "      <th>honda</th>\n",
              "      <th>volkswagen</th>\n",
              "      <th>mercedes benz</th>\n",
              "      <th>infiniti</th>\n",
              "      <th>cadillac</th>\n",
              "      <th>hyundai</th>\n",
              "      <th>ford</th>\n",
              "    </tr>\n",
              "  </thead>\n",
              "  <tbody>\n",
              "    <tr>\n",
              "      <th>bmw</th>\n",
              "      <td>0</td>\n",
              "      <td>0.490846</td>\n",
              "      <td>0.671459</td>\n",
              "      <td>0.824866</td>\n",
              "      <td>0.778179</td>\n",
              "      <td>0.275605</td>\n",
              "      <td>0.474805</td>\n",
              "      <td>0.471824</td>\n",
              "      <td>0.691519</td>\n",
              "      <td>0.643512</td>\n",
              "    </tr>\n",
              "    <tr>\n",
              "      <th>audi</th>\n",
              "      <td>0.490846</td>\n",
              "      <td>0</td>\n",
              "      <td>0.43804</td>\n",
              "      <td>0.539206</td>\n",
              "      <td>0.387899</td>\n",
              "      <td>0.237023</td>\n",
              "      <td>0.326865</td>\n",
              "      <td>0.309441</td>\n",
              "      <td>0.557605</td>\n",
              "      <td>0.779453</td>\n",
              "    </tr>\n",
              "    <tr>\n",
              "      <th>acura</th>\n",
              "      <td>0.671459</td>\n",
              "      <td>0.43804</td>\n",
              "      <td>0</td>\n",
              "      <td>0.275915</td>\n",
              "      <td>0.744271</td>\n",
              "      <td>0.271349</td>\n",
              "      <td>0.226994</td>\n",
              "      <td>0.368426</td>\n",
              "      <td>0.534945</td>\n",
              "      <td>0.839485</td>\n",
              "    </tr>\n",
              "    <tr>\n",
              "      <th>honda</th>\n",
              "      <td>0.824866</td>\n",
              "      <td>0.539206</td>\n",
              "      <td>0.275915</td>\n",
              "      <td>0</td>\n",
              "      <td>0.459697</td>\n",
              "      <td>0.4934</td>\n",
              "      <td>0.477566</td>\n",
              "      <td>0.571725</td>\n",
              "      <td>0.431365</td>\n",
              "      <td>0.535599</td>\n",
              "    </tr>\n",
              "    <tr>\n",
              "      <th>volkswagen</th>\n",
              "      <td>0.778179</td>\n",
              "      <td>0.387899</td>\n",
              "      <td>0.744271</td>\n",
              "      <td>0.459697</td>\n",
              "      <td>0</td>\n",
              "      <td>0.408619</td>\n",
              "      <td>0.592498</td>\n",
              "      <td>0.715084</td>\n",
              "      <td>0.494644</td>\n",
              "      <td>0.366425</td>\n",
              "    </tr>\n",
              "    <tr>\n",
              "      <th>mercedes benz</th>\n",
              "      <td>0.275605</td>\n",
              "      <td>0.237023</td>\n",
              "      <td>0.271349</td>\n",
              "      <td>0.4934</td>\n",
              "      <td>0.408619</td>\n",
              "      <td>0</td>\n",
              "      <td>0.180408</td>\n",
              "      <td>0.13845</td>\n",
              "      <td>0.265724</td>\n",
              "      <td>0.333599</td>\n",
              "    </tr>\n",
              "    <tr>\n",
              "      <th>infiniti</th>\n",
              "      <td>0.474805</td>\n",
              "      <td>0.326865</td>\n",
              "      <td>0.226994</td>\n",
              "      <td>0.477566</td>\n",
              "      <td>0.592498</td>\n",
              "      <td>0.180408</td>\n",
              "      <td>0</td>\n",
              "      <td>0.255807</td>\n",
              "      <td>0.370311</td>\n",
              "      <td>0.477354</td>\n",
              "    </tr>\n",
              "    <tr>\n",
              "      <th>cadillac</th>\n",
              "      <td>0.471824</td>\n",
              "      <td>0.309441</td>\n",
              "      <td>0.368426</td>\n",
              "      <td>0.571725</td>\n",
              "      <td>0.715084</td>\n",
              "      <td>0.13845</td>\n",
              "      <td>0.255807</td>\n",
              "      <td>0</td>\n",
              "      <td>0.385475</td>\n",
              "      <td>0.432088</td>\n",
              "    </tr>\n",
              "    <tr>\n",
              "      <th>hyundai</th>\n",
              "      <td>0.691519</td>\n",
              "      <td>0.557605</td>\n",
              "      <td>0.534945</td>\n",
              "      <td>0.431365</td>\n",
              "      <td>0.494644</td>\n",
              "      <td>0.265724</td>\n",
              "      <td>0.370311</td>\n",
              "      <td>0.385475</td>\n",
              "      <td>0</td>\n",
              "      <td>0.465959</td>\n",
              "    </tr>\n",
              "    <tr>\n",
              "      <th>ford</th>\n",
              "      <td>0.643512</td>\n",
              "      <td>0.779453</td>\n",
              "      <td>0.839485</td>\n",
              "      <td>0.535599</td>\n",
              "      <td>0.366425</td>\n",
              "      <td>0.333599</td>\n",
              "      <td>0.477354</td>\n",
              "      <td>0.432088</td>\n",
              "      <td>0.465959</td>\n",
              "      <td>0</td>\n",
              "    </tr>\n",
              "  </tbody>\n",
              "</table>\n",
              "</div>"
            ],
            "text/plain": [
              "                    bmw      audi     acura  ...  cadillac   hyundai      ford\n",
              "bmw                   0  0.490846  0.671459  ...  0.471824  0.691519  0.643512\n",
              "audi           0.490846         0   0.43804  ...  0.309441  0.557605  0.779453\n",
              "acura          0.671459   0.43804         0  ...  0.368426  0.534945  0.839485\n",
              "honda          0.824866  0.539206  0.275915  ...  0.571725  0.431365  0.535599\n",
              "volkswagen     0.778179  0.387899  0.744271  ...  0.715084  0.494644  0.366425\n",
              "mercedes benz  0.275605  0.237023  0.271349  ...   0.13845  0.265724  0.333599\n",
              "infiniti       0.474805  0.326865  0.226994  ...  0.255807  0.370311  0.477354\n",
              "cadillac       0.471824  0.309441  0.368426  ...         0  0.385475  0.432088\n",
              "hyundai        0.691519  0.557605  0.534945  ...  0.385475         0  0.465959\n",
              "ford           0.643512  0.779453  0.839485  ...  0.432088  0.465959         0\n",
              "\n",
              "[10 rows x 10 columns]"
            ]
          },
          "metadata": {},
          "execution_count": 83
        }
      ]
    },
    {
      "cell_type": "code",
      "metadata": {
        "colab": {
          "base_uri": "https://localhost:8080/"
        },
        "id": "XfxTJlp2WV-9",
        "outputId": "a960664d-57fe-48fd-9a3f-d25447245643"
      },
      "source": [
        "from sklearn import manifold\n",
        "from sklearn.manifold import MDS\n",
        "\n",
        "mds = manifold.MDS(dissimilarity='euclidean')\n",
        "mds_fit = mds.fit(top_brand_lifts)\n",
        "coords = mds.fit_transform(top_brand_lifts)"
      ],
      "execution_count": null,
      "outputs": [
        {
          "output_type": "stream",
          "name": "stderr",
          "text": [
            "/usr/local/lib/python3.7/dist-packages/sklearn/manifold/_mds.py:419: UserWarning: The MDS API has changed. ``fit`` now constructs an dissimilarity matrix from data. To use a custom dissimilarity matrix, set ``dissimilarity='precomputed'``.\n",
            "  warnings.warn(\"The MDS API has changed. ``fit`` now constructs an\"\n",
            "/usr/local/lib/python3.7/dist-packages/sklearn/manifold/_mds.py:419: UserWarning: The MDS API has changed. ``fit`` now constructs an dissimilarity matrix from data. To use a custom dissimilarity matrix, set ``dissimilarity='precomputed'``.\n",
            "  warnings.warn(\"The MDS API has changed. ``fit`` now constructs an\"\n"
          ]
        }
      ]
    },
    {
      "cell_type": "code",
      "metadata": {
        "colab": {
          "base_uri": "https://localhost:8080/",
          "height": 637
        },
        "id": "ar9qNBhrWWEn",
        "outputId": "8fb1dee8-836a-4c08-9265-013f5ad3b810"
      },
      "source": [
        "x,y = coords.T\n",
        "\n",
        "plt.figure(figsize=(10, 10))\n",
        "plt.scatter(x,y,c='coral')\n",
        "\n",
        "for i, txt in enumerate(top_brands):\n",
        "    plt.annotate(txt, (x[i], y[i]), xycoords='data',\n",
        "             xytext=(20, -20), textcoords='offset points',\n",
        "             size=14, ha='right', va=\"center\",\n",
        "             bbox=dict(boxstyle=\"Sawtooth\",color='yellow' ,alpha=0.5),\n",
        "             arrowprops=dict(arrowstyle=\"wedge,tail_width=0.5\", alpha=0.1))\n",
        "    \n",
        "plt.xlabel('Dimension1') \n",
        "plt.ylabel('Dimension2')   \n",
        "plt.yticks(np.arange(-0.4, 1, 0.2))\n",
        "plt.xticks(np.arange(-0.6, 0.7, 0.2))\n",
        "plt.title('Multidimensional-Scaling:- Topmost 10 Brands \\n (Euclidean Distances = 1 / lift)')\n",
        "plt.show()"
      ],
      "execution_count": null,
      "outputs": [
        {
          "output_type": "display_data",
          "data": {
            "image/png": "[encoded data removed]",
            "text/plain": [
              "<Figure size 720x720 with 1 Axes>"
            ]
          },
          "metadata": {
            "needs_background": "light"
          }
        }
      ]
    },
    {
      "cell_type": "markdown",
      "metadata": {
        "id": "m4sBcQglS6U1"
      },
      "source": [
        "#**<font color=blue>Task E: What insights can you offer to your client from your analyses in Tasks C and D</font>**\n",
        " "
      ]
    },
    {
      "cell_type": "markdown",
      "metadata": {
        "id": "EBcNFKDZUxhU"
      },
      "source": [
        "**Cadillac - Independence from other General Motors brands**                    \n",
        "Assuming the sentiments are positive here, the brands with the highest common lift are 'mercedes benz' and 'cadillac' with the lift value equal to 7.22, \n",
        "which turns out to be the highest between any 2 combinations among the top 10 brands. The frequency of occurrence of mercedes benz is 243 and that of cadillac is 210 among the total posts and comments we scraped. \n",
        "\n",
        "Owning a Cadillac in America was once synonymous with success and achievement but with an influx of foreign competitors like Mercedes-Benz, Cadillac's share in  the U.S. luxury car market has dropped . Considering the sentiments to be positive it is good sign for Cadillac that it is having high lift with Mercedes-Benz which is seen as a premium luxury brand. Brand identities of luxury automakers have become much more complex over the years.\n",
        "\n",
        "Digging a bit deeper, looks like for Cadillac the next major step is to create more independence from other General Motors brands in providing a unique driving experience.\n",
        "\n",
        "**Benz - how should it evolve?**                  \n",
        "Mercedes-Benz primarily being centered on the safety, luxury, and precision engineering of its cars also needs to reinvent itself to evolve from a company defined  by its gas-guzzling luxury sedans and sports cars to a more fun loving, approachable, and energetic side of Mercedes Benz.\n",
        "\n",
        "High lift scores of Mercedes-Benz with other brands like acura and infiniti also shows how competitive the entry level luxury car market has become and also that it is tranforming very fast.\n",
        "\n",
        "**Customer base differentiation and market share**                          \n",
        "Acura was one of the first Japanese luxury auto in the U.S market, though it is witnessing a rise over the years has struggled to find its identity which is the main reason behind the fact that the brand has been eclipsed by major luxury players.\n",
        "Acura is owned by Honda and Infiniti is Nissan’s luxury line and the fact that both are Japenese luxury brands explains the high lift between them. They share vehicles in four classes: luxury small car, luxury midsize car, luxury compact SUV, and luxury midsize SUV. Researching a bit more we got that Infinity has a name in luxury sports car segment, whereas Acuras aren’t fast enough to be classified in this segment. So, there is a customer base differentiation here which prevents eating each other's market share and the brands could carve out niche market for each other. Acura can  build on top of existing features making their cars more attractive and giving more attention to finer details like high end luxury brands- Mercedez-Benz or BMW. Similarly Infiniti could work on building up it's reputation as a luxury sports car brand."
      ]
    },
    {
      "cell_type": "markdown",
      "metadata": {
        "id": "ES7Yx2VMR2zQ"
      },
      "source": [
        "#**<font color=blue>Task F: 5 most frequently mentioned attributes of cars</font>**"
      ]
    },
    {
      "cell_type": "code",
      "metadata": {
        "id": "mvrV3f8zi-cu"
      },
      "source": [
        "#Initialize empty dictionary \n",
        "all_words_dict = dict()\n",
        "\n",
        "#Iterate over each row of tokens and track frequency in the 'words_dict' dictionary\n",
        "for row in df['t']:\n",
        "    list_row = list(row) #Set --> List\n",
        "    for word in row:\n",
        "        word = word.lower() #Remove any capitalization\n",
        "        if word in all_words_dict:\n",
        "            all_words_dict[word] += 1\n",
        "        else:\n",
        "            all_words_dict[word] = 1"
      ],
      "execution_count": null,
      "outputs": []
    },
    {
      "cell_type": "code",
      "metadata": {
        "id": "Rd6ZiubUHotw"
      },
      "source": [
        "k = Counter(all_words_dict) \n",
        "#k.most_common(500) "
      ],
      "execution_count": null,
      "outputs": []
    },
    {
      "cell_type": "code",
      "metadata": {
        "colab": {
          "resources": {
            "http://localhost:8080/nbextensions/google.colab/files.js": {
              "data": "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",
              "ok": true,
              "headers": [
                [
                  "content-type",
                  "application/javascript"
                ]
              ],
              "status": 200,
              "status_text": ""
            }
          },
          "base_uri": "https://localhost:8080/",
          "height": 72
        },
        "id": "Lk2LOOCONx0M",
        "outputId": "a12fb265-47d7-4e8d-c5ae-bc23ed63686e"
      },
      "source": [
        "# run this cell to upload attributes3.csv\n",
        "from google.colab import files\n",
        "uploaded = files.upload()"
      ],
      "execution_count": null,
      "outputs": [
        {
          "output_type": "display_data",
          "data": {
            "text/html": [
              "\n",
              "     <input type=\"file\" id=\"files-e330d492-fa57-4392-b0b0-c29baec6162c\" name=\"files[]\" multiple disabled\n",
              "        style=\"border:none\" />\n",
              "     <output id=\"result-e330d492-fa57-4392-b0b0-c29baec6162c\">\n",
              "      Upload widget is only available when the cell has been executed in the\n",
              "      current browser session. Please rerun this cell to enable.\n",
              "      </output>\n",
              "      <script src=\"/nbextensions/google.colab/files.js\"></script> "
            ],
            "text/plain": [
              "<IPython.core.display.HTML object>"
            ]
          },
          "metadata": {}
        },
        {
          "output_type": "stream",
          "name": "stdout",
          "text": [
            "Saving Attributes3.csv to Attributes3 (1).csv\n"
          ]
        }
      ]
    },
    {
      "cell_type": "code",
      "metadata": {
        "id": "IP6fpISRHrbY"
      },
      "source": [
        "#Read in CSV of attributes to map\n",
        "attribute_map = pd.read_csv(\"Attributes3.csv\")\n",
        "attribute_map.columns =['key','attribute']\n",
        "attributes = set(attribute_map['attribute'].to_list())\n",
        "keys = set(attribute_map['key'].to_list())"
      ],
      "execution_count": null,
      "outputs": []
    },
    {
      "cell_type": "code",
      "metadata": {
        "id": "WNhm7pl-HuIN"
      },
      "source": [
        "def attribute_cleaner(row):\n",
        "    clean_tokens = []\n",
        "    for word in row:\n",
        "        if word in keys: \n",
        "            word = attribute_map['attribute'][attribute_map['key']==word].tolist()[0]\n",
        "            clean_tokens.append(word)\n",
        "        else: \n",
        "            clean_tokens.append(word)\n",
        "    return clean_tokens\n",
        "\n",
        "df['t'] = df['t'].apply(attribute_cleaner)"
      ],
      "execution_count": null,
      "outputs": []
    },
    {
      "cell_type": "code",
      "metadata": {
        "id": "7wyhUqx2Hy5o"
      },
      "source": [
        "att_lift = pd.DataFrame(columns=top_brands, index=attributes)\n",
        "\n",
        "for brand in top_brands:\n",
        "    for attrib in attributes:\n",
        "        try:\n",
        "            att_lift[brand][attrib] = liftCalc(brand,attrib)\n",
        "        except: \n",
        "            att_lift[brand][attrib] = 'N/A'\n"
      ],
      "execution_count": null,
      "outputs": []
    },
    {
      "cell_type": "code",
      "metadata": {
        "colab": {
          "base_uri": "https://localhost:8080/",
          "height": 145
        },
        "id": "3tUxAnJBH2RD",
        "outputId": "5af41bd5-4900-445a-95b4-a360c2f440e7"
      },
      "source": [
        "#Top 5 Attributes were Chosen by Frequency\n",
        "top5attributes = ['performance','comfort','efficiency','safety','styling']\n",
        "att_lift2 = att_lift.loc[top5attributes][top_brands[0:5]]\n",
        "att_lift2.style.apply(lambda x: [\"background: yellow\" if v > 1.8 else \"\" for v in x], axis = 1)"
      ],
      "execution_count": null,
      "outputs": [
        {
          "output_type": "execute_result",
          "data": {
            "text/html": [
              "<style  type=\"text/css\" >\n",
              "#T_1e3c0566_24be_11ec_8390_0242ac1c0002row1_col1,#T_1e3c0566_24be_11ec_8390_0242ac1c0002row1_col2,#T_1e3c0566_24be_11ec_8390_0242ac1c0002row1_col3,#T_1e3c0566_24be_11ec_8390_0242ac1c0002row2_col3,#T_1e3c0566_24be_11ec_8390_0242ac1c0002row2_col4,#T_1e3c0566_24be_11ec_8390_0242ac1c0002row3_col1,#T_1e3c0566_24be_11ec_8390_0242ac1c0002row3_col3,#T_1e3c0566_24be_11ec_8390_0242ac1c0002row4_col1,#T_1e3c0566_24be_11ec_8390_0242ac1c0002row4_col2,#T_1e3c0566_24be_11ec_8390_0242ac1c0002row4_col3{\n",
              "            background:  yellow;\n",
              "        }</style><table id=\"T_1e3c0566_24be_11ec_8390_0242ac1c0002\" ><thead>    <tr>        <th class=\"blank level0\" ></th>        <th class=\"col_heading level0 col0\" >bmw</th>        <th class=\"col_heading level0 col1\" >audi</th>        <th class=\"col_heading level0 col2\" >acura</th>        <th class=\"col_heading level0 col3\" >honda</th>        <th class=\"col_heading level0 col4\" >volkswagen</th>    </tr></thead><tbody>\n",
              "                <tr>\n",
              "                        <th id=\"T_1e3c0566_24be_11ec_8390_0242ac1c0002level0_row0\" class=\"row_heading level0 row0\" >performance</th>\n",
              "                        <td id=\"T_1e3c0566_24be_11ec_8390_0242ac1c0002row0_col0\" class=\"data row0 col0\" >1.460167</td>\n",
              "                        <td id=\"T_1e3c0566_24be_11ec_8390_0242ac1c0002row0_col1\" class=\"data row0 col1\" >1.620343</td>\n",
              "                        <td id=\"T_1e3c0566_24be_11ec_8390_0242ac1c0002row0_col2\" class=\"data row0 col2\" >1.522248</td>\n",
              "                        <td id=\"T_1e3c0566_24be_11ec_8390_0242ac1c0002row0_col3\" class=\"data row0 col3\" >1.531694</td>\n",
              "                        <td id=\"T_1e3c0566_24be_11ec_8390_0242ac1c0002row0_col4\" class=\"data row0 col4\" >1.404809</td>\n",
              "            </tr>\n",
              "            <tr>\n",
              "                        <th id=\"T_1e3c0566_24be_11ec_8390_0242ac1c0002level0_row1\" class=\"row_heading level0 row1\" >comfort</th>\n",
              "                        <td id=\"T_1e3c0566_24be_11ec_8390_0242ac1c0002row1_col0\" class=\"data row1 col0\" >1.751519</td>\n",
              "                        <td id=\"T_1e3c0566_24be_11ec_8390_0242ac1c0002row1_col1\" class=\"data row1 col1\" >2.053017</td>\n",
              "                        <td id=\"T_1e3c0566_24be_11ec_8390_0242ac1c0002row1_col2\" class=\"data row1 col2\" >2.169182</td>\n",
              "                        <td id=\"T_1e3c0566_24be_11ec_8390_0242ac1c0002row1_col3\" class=\"data row1 col3\" >1.897706</td>\n",
              "                        <td id=\"T_1e3c0566_24be_11ec_8390_0242ac1c0002row1_col4\" class=\"data row1 col4\" >1.765457</td>\n",
              "            </tr>\n",
              "            <tr>\n",
              "                        <th id=\"T_1e3c0566_24be_11ec_8390_0242ac1c0002level0_row2\" class=\"row_heading level0 row2\" >efficiency</th>\n",
              "                        <td id=\"T_1e3c0566_24be_11ec_8390_0242ac1c0002row2_col0\" class=\"data row2 col0\" >1.180663</td>\n",
              "                        <td id=\"T_1e3c0566_24be_11ec_8390_0242ac1c0002row2_col1\" class=\"data row2 col1\" >1.723292</td>\n",
              "                        <td id=\"T_1e3c0566_24be_11ec_8390_0242ac1c0002row2_col2\" class=\"data row2 col2\" >1.667157</td>\n",
              "                        <td id=\"T_1e3c0566_24be_11ec_8390_0242ac1c0002row2_col3\" class=\"data row2 col3\" >2.539007</td>\n",
              "                        <td id=\"T_1e3c0566_24be_11ec_8390_0242ac1c0002row2_col4\" class=\"data row2 col4\" >2.505534</td>\n",
              "            </tr>\n",
              "            <tr>\n",
              "                        <th id=\"T_1e3c0566_24be_11ec_8390_0242ac1c0002level0_row3\" class=\"row_heading level0 row3\" >safety</th>\n",
              "                        <td id=\"T_1e3c0566_24be_11ec_8390_0242ac1c0002row3_col0\" class=\"data row3 col0\" >1.423707</td>\n",
              "                        <td id=\"T_1e3c0566_24be_11ec_8390_0242ac1c0002row3_col1\" class=\"data row3 col1\" >1.832248</td>\n",
              "                        <td id=\"T_1e3c0566_24be_11ec_8390_0242ac1c0002row3_col2\" class=\"data row3 col2\" >1.740863</td>\n",
              "                        <td id=\"T_1e3c0566_24be_11ec_8390_0242ac1c0002row3_col3\" class=\"data row3 col3\" >1.929645</td>\n",
              "                        <td id=\"T_1e3c0566_24be_11ec_8390_0242ac1c0002row3_col4\" class=\"data row3 col4\" >1.622188</td>\n",
              "            </tr>\n",
              "            <tr>\n",
              "                        <th id=\"T_1e3c0566_24be_11ec_8390_0242ac1c0002level0_row4\" class=\"row_heading level0 row4\" >styling</th>\n",
              "                        <td id=\"T_1e3c0566_24be_11ec_8390_0242ac1c0002row4_col0\" class=\"data row4 col0\" >1.785779</td>\n",
              "                        <td id=\"T_1e3c0566_24be_11ec_8390_0242ac1c0002row4_col1\" class=\"data row4 col1\" >2.242506</td>\n",
              "                        <td id=\"T_1e3c0566_24be_11ec_8390_0242ac1c0002row4_col2\" class=\"data row4 col2\" >2.286476</td>\n",
              "                        <td id=\"T_1e3c0566_24be_11ec_8390_0242ac1c0002row4_col3\" class=\"data row4 col3\" >2.120573</td>\n",
              "                        <td id=\"T_1e3c0566_24be_11ec_8390_0242ac1c0002row4_col4\" class=\"data row4 col4\" >1.576762</td>\n",
              "            </tr>\n",
              "    </tbody></table>"
            ],
            "text/plain": [
              "<pandas.io.formats.style.Styler at 0x7f4a13a70990>"
            ]
          },
          "metadata": {},
          "execution_count": 93
        }
      ]
    },
    {
      "cell_type": "markdown",
      "metadata": {
        "id": "RbhzsZX6SFhP"
      },
      "source": [
        "# **<font color=blue>Task G: What advice will you give to your client from Task F</font>**"
      ]
    },
    {
      "cell_type": "markdown",
      "metadata": {
        "id": "0nKHPuObH9O_"
      },
      "source": [
        "**Audi - Comfort versus Fuel economy**                                         \n",
        "Audi has a high lift for “comfort” and “styling” compared to BMW and other brands(except Acura). Though Audi has gone to great lengths to reduce energy consumption on all levels, given the popular perception in\n",
        "terms of \"efficiency\" it has to take more action oriented steps that results in better fuel economy. Audi pulls ahead when it comes to \"performance\" as well and for a premium brand like Audi any new changes and improvisations is regarded as \"the Performance of the Performance\".\n",
        "\n",
        "**Acura - giving stiff competition to BMW and Audi**                           \n",
        "Acura is owned by Honda and it is known for luxury small cars and luxury midsize cars and it has good lift scores when it comes to \"safety\" , \"comfort\" and \"styling\" and this should be a good news for the brand . \n",
        "With a starting price right around $25K-$30K and the low maintenance costs associated with Japanese brand, Acura is witnessing a rise and will give a stiff competition to European brands like the pricier BMW and Audi.\n",
        "Based on the public perception it should capitalize on not only reliability and affordability but also on high performance with luxury driving experience.\n",
        "\n",
        "**Honda - heading in the right direction**                                       \n",
        "Honda continues to operate as a well-established, trusted brand and with its determined focus on reducing fossil fuel consumption, it has a high efficiency lift.\n",
        "Honda has decided to strive for the \"realization of carbon neutrality by 2050\" and together with more emphasis being given on the performance aspect, should be a step in the right direction \n",
        "\n",
        "**BMW - improve efficiency**                                                     \n",
        "Though BMW scored low on comfort, styling and performance, there is no doubt that it is still one of the leading luxury car manufacturers. However; as a wave of change is sweeping across the automobile industry the need for rapid innovation at BMW has become more urgent than ever before. It's low score on efficiency also reflects on the fact that now it has to come up with environmentally friendly technologies but still have a personalized and luxurious experience.\n"
      ]
    },
    {
      "cell_type": "markdown",
      "metadata": {
        "id": "wvrDpubOHEvP"
      },
      "source": [
        "#**<font color=blue>Task H: Most Aspirational Brands with the lift values</font>**"
      ]
    },
    {
      "cell_type": "code",
      "metadata": {
        "id": "O1lfYfmMrvt_"
      },
      "source": [
        "aspiration_comments = pd.read_csv(\"edmunds_5000_comments.csv\",sep='\\t', index_col=0)\n",
        "aspiration_comments.dropna(inplace=True)\n",
        "aspiration_comments['Tokens2'] = aspiration_comments['comments'].apply(nltk.tokenize.word_tokenize)\n",
        "#aspiration_comments.tail()"
      ],
      "execution_count": null,
      "outputs": []
    },
    {
      "cell_type": "code",
      "metadata": {
        "id": "gQ4T1QIIsGnw"
      },
      "source": [
        "def lower_func(row):\n",
        "    list_row = list(row)\n",
        "    token=[]\n",
        "    for word in list_row:\n",
        "        word=word.lower()\n",
        "        if word in models_list: #Change any models that appear to their corresponding Brands\n",
        "            word = car_data['Brand'][car_data['Model']==word].tolist()[0]\n",
        "            if word not in token:\n",
        "                token.append(word) \n",
        "        else: \n",
        "                token.append(word) \n",
        "    return token\n",
        "\n",
        "aspiration_comments['Tokens2'] = aspiration_comments['Tokens2'].apply(lower_func)\n",
        "\n",
        "#print(aspiration_comments)"
      ],
      "execution_count": null,
      "outputs": []
    },
    {
      "cell_type": "code",
      "metadata": {
        "id": "E153q2yjsLZP"
      },
      "source": [
        "def attach_together(token_list):\n",
        "    r=''\n",
        "    for each in token_list:\n",
        "        r=r+'' + each + ' '\n",
        "    return r\n",
        "\n",
        "aspiration_comments['Attached_Tokens'] = aspiration_comments['Tokens2'].apply(attach_together)\n",
        "#print(aspiration_comments)"
      ],
      "execution_count": null,
      "outputs": []
    },
    {
      "cell_type": "code",
      "metadata": {
        "id": "Cao5Z1QcsQli"
      },
      "source": [
        "#aspirations =[\"perfect\",\"winner\", \"favor\", \"promise\",  \"heart\", \"dream\", \"loving\", \"desire\",\"desirable\", \"top\",\"anticipate\", \"ultimate\", \"excellent\", \"excellence\", \"fantastic\", \"aspire\", \"amazing\", \"luxury\", \"luxurious\"]\n",
        "aspirations=[\"perfect\",\"luxury\",\"luxurious\", \"dream\", \"loving\", \"desire\",\"desirable\", \"top\",\"best\", \"ultimate\", \"excellent\", \"excellence\", \"fantastic\", \"aspire\", \"amazing\", \"enjoy\", \"impressive\", \"special\"]\n",
        "unique_brands=list(set(car_data.Brand.values))\n",
        "#print(unique_brands)"
      ],
      "execution_count": null,
      "outputs": []
    },
    {
      "cell_type": "code",
      "metadata": {
        "id": "yO-YD8aAsW34"
      },
      "source": [
        "#Define a function that will calculate Lift based on new tokens\n",
        "def liftCalc_aspiration(word_1,word_2):\n",
        "  \n",
        "    w1freq = sum(aspiration_comments.apply(lambda x: word_1 in x.Attached_Tokens_Tokenized, axis=1))\n",
        "    w2freq = sum(aspiration_comments.apply(lambda x: word_2 in x.Attached_Tokens_Tokenized, axis=1))\n",
        "    bothfreq = sum(aspiration_comments.apply(lambda x: word_1 in x.Attached_Tokens_Tokenized and word_2 in x.Attached_Tokens_Tokenized, axis=1))\n",
        "    try:\n",
        "        return float(bothfreq/len(aspiration_comments))/((float(w1freq)/len(aspiration_comments))*(float(w2freq)/len(aspiration_comments)))\n",
        "    except:\n",
        "        return 0"
      ],
      "execution_count": null,
      "outputs": []
    },
    {
      "cell_type": "code",
      "metadata": {
        "id": "u0M4ry6KsZja"
      },
      "source": [
        "def find_aspirations(each_at):\n",
        "  \n",
        "\n",
        "    for each_aspiration in aspirations:\n",
        "        if each_aspiration in each_at:\n",
        "            for brand in unique_brands:\n",
        "                if brand in each_at:\n",
        "                    each_at=each_at.replace(each_aspiration,'aspirations_find_out')          \n",
        "                    #print(brand,each_aspiration) \n",
        "    return each_at\n",
        "\n",
        "aspiration_comments.Attached_Tokens=aspiration_comments.Attached_Tokens.apply(find_aspirations)\n",
        "aspiration_comments['Attached_Tokens_Tokenized']=aspiration_comments.Attached_Tokens.apply(nltk.tokenize.word_tokenize)\n",
        "#print(aspiration_comments)\n",
        "#print(each_at)"
      ],
      "execution_count": null,
      "outputs": []
    },
    {
      "cell_type": "code",
      "metadata": {
        "colab": {
          "base_uri": "https://localhost:8080/",
          "height": 393
        },
        "id": "mKuppptcscpK",
        "outputId": "2fac3e78-f36e-427b-9015-bfa7eada1c1d"
      },
      "source": [
        "import operator\n",
        "d = {} \n",
        "for brand in unique_brands:\n",
        "    lift=liftCalc_aspiration(brand,'aspirations_find_out')\n",
        "    if lift>0:\n",
        "        d[brand]=lift\n",
        "        #print(d)\n",
        "sorted_d= sorted(d.items(), key=operator.itemgetter(1),reverse=True)\n",
        "\n",
        "df_aspiration = pd.DataFrame(sorted_d,columns=['Brand','Lift'])\n",
        "\n",
        "print('\\n Brands and Lift Values:')\n",
        "display(df_aspiration[0:10])"
      ],
      "execution_count": null,
      "outputs": [
        {
          "output_type": "stream",
          "name": "stdout",
          "text": [
            "\n",
            " Brands and Lift Values:\n"
          ]
        },
        {
          "output_type": "display_data",
          "data": {
            "text/html": [
              "<div>\n",
              "<style scoped>\n",
              "    .dataframe tbody tr th:only-of-type {\n",
              "        vertical-align: middle;\n",
              "    }\n",
              "\n",
              "    .dataframe tbody tr th {\n",
              "        vertical-align: top;\n",
              "    }\n",
              "\n",
              "    .dataframe thead th {\n",
              "        text-align: right;\n",
              "    }\n",
              "</style>\n",
              "<table border=\"1\" class=\"dataframe\">\n",
              "  <thead>\n",
              "    <tr style=\"text-align: right;\">\n",
              "      <th></th>\n",
              "      <th>Brand</th>\n",
              "      <th>Lift</th>\n",
              "    </tr>\n",
              "  </thead>\n",
              "  <tbody>\n",
              "    <tr>\n",
              "      <th>0</th>\n",
              "      <td>toyota</td>\n",
              "      <td>3.285303</td>\n",
              "    </tr>\n",
              "    <tr>\n",
              "      <th>1</th>\n",
              "      <td>lincoln</td>\n",
              "      <td>3.070689</td>\n",
              "    </tr>\n",
              "    <tr>\n",
              "      <th>2</th>\n",
              "      <td>mercedes</td>\n",
              "      <td>3.035877</td>\n",
              "    </tr>\n",
              "    <tr>\n",
              "      <th>3</th>\n",
              "      <td>hyundai</td>\n",
              "      <td>2.978039</td>\n",
              "    </tr>\n",
              "    <tr>\n",
              "      <th>4</th>\n",
              "      <td>chrysler</td>\n",
              "      <td>2.944258</td>\n",
              "    </tr>\n",
              "    <tr>\n",
              "      <th>5</th>\n",
              "      <td>chevrolet</td>\n",
              "      <td>2.885611</td>\n",
              "    </tr>\n",
              "    <tr>\n",
              "      <th>6</th>\n",
              "      <td>infiniti</td>\n",
              "      <td>2.834272</td>\n",
              "    </tr>\n",
              "    <tr>\n",
              "      <th>7</th>\n",
              "      <td>cadillac</td>\n",
              "      <td>2.818076</td>\n",
              "    </tr>\n",
              "    <tr>\n",
              "      <th>8</th>\n",
              "      <td>buick</td>\n",
              "      <td>2.803512</td>\n",
              "    </tr>\n",
              "    <tr>\n",
              "      <th>9</th>\n",
              "      <td>mazda</td>\n",
              "      <td>2.739796</td>\n",
              "    </tr>\n",
              "  </tbody>\n",
              "</table>\n",
              "</div>"
            ],
            "text/plain": [
              "       Brand      Lift\n",
              "0     toyota  3.285303\n",
              "1    lincoln  3.070689\n",
              "2   mercedes  3.035877\n",
              "3    hyundai  2.978039\n",
              "4   chrysler  2.944258\n",
              "5  chevrolet  2.885611\n",
              "6   infiniti  2.834272\n",
              "7   cadillac  2.818076\n",
              "8      buick  2.803512\n",
              "9      mazda  2.739796"
            ]
          },
          "metadata": {}
        }
      ]
    },
    {
      "cell_type": "markdown",
      "metadata": {
        "id": "Xfh44EDFO0E9"
      },
      "source": [
        "# **<font color=blue>Analysis of Aspirational Brands </font>**"
      ]
    },
    {
      "cell_type": "markdown",
      "metadata": {
        "id": "BWuPyXeMnons"
      },
      "source": [
        "# **<font color=blue>Top rated vehicles on JD Power  </font>**"
      ]
    },
    {
      "cell_type": "markdown",
      "metadata": {
        "id": "ekqsYpZ0iqe-"
      },
      "source": [
        "\n",
        "![](https://drive.google.com/uc?export=view&id=1RrgwVk8UwpgM1xFQ3PyLjJ-XNcDaXsUn)"
      ]
    },
    {
      "cell_type": "markdown",
      "metadata": {
        "id": "EuAGRRCwd2kD"
      },
      "source": [
        "\n",
        "JD Power show's that Nissan, Murano and Kia are the top rated consumer vehicles. Our team's findings based on analytics on aspirational brands can help JD Power refine their recommendations. One could tell at first glance that when consumers are discussing entry-level luxury cars, BMW has the most frequency.\n",
        "\n",
        "- Brands with Highest Frequency:\n",
        "   - bmw \t             1036\n",
        "   - audi \t              805\n",
        "   - acura \t            510\n",
        "   - honda \t            423\n",
        "   - volkswagen \t        256\n",
        "   - mercedes benz \t    243\n",
        "   - infiniti \t          232\n",
        "   - cadillac \t          210\n",
        "   - hyundai \t          184\n",
        "   - ford \t              165\n",
        "\n",
        "Also, there is definite correlation between lift associations from our dataset and JD Power listings online.\n",
        "\n",
        "Brand Combinations With Highest Lift:\n",
        "* mercedes benz, cadillac:            7.222807\n",
        "* mercedes benz, infiniti:            5.542990\n",
        "* acura, infiniti:                    4.405409\n",
        "* audi, mercedes benz:                4.218993\n",
        "* infiniti, cadillac :                3.909195\n",
        "* mercedes benz, hyundai:             3.763301\n",
        "* acura, mercedes benz :              3.685294\n",
        "* bmw, mercedes benz  :               3.628378\n",
        "* acura, honda:                       3.624308\n",
        "* audi, cadillac:                     3.231636\n",
        "\n"
      ]
    },
    {
      "cell_type": "markdown",
      "metadata": {
        "id": "rWlYTyQvqHgn"
      },
      "source": [
        "# **<font color=blue>What customers are actually buying? </font>**"
      ]
    },
    {
      "cell_type": "markdown",
      "metadata": {
        "id": "AdBGBU9_p41v"
      },
      "source": [
        "However; a deep dive into our data and consumer's aspirations show that consumers are going for the following brands. \n",
        "\n",
        "* Our Analytics Team's Top 5 Aspirational Brands:\n",
        "  * Toyota 3.13\n",
        "  * Chevrolet 2.91\n",
        "  * Mercedes 2.88\n",
        "  * Lincoln 2.83\n",
        "  * Chrysler 2.82\n",
        "\n",
        "* Top car recommendations on JD Power:\n",
        "\n",
        "![](https://drive.google.com/uc?export=view&id=1_CkpxkybMPU17V-HC5XMJy8Kx4g8g6_D)\n",
        "\n",
        "**<font color=blue><u>Our team can help incorporate analytics featuring consumer's aspirations and project the right car brands so people spending time evaluating cars on JD Power understand that REAL INSIGHTS on JD Power are coming from REAL ASPIRATIONS.</u></font>**\n",
        "\n",
        "#### **<font color=blue>So why is our recommendation different? </font>**\n",
        "\n",
        "Our recommendations filter consumer's comments based on their aspirations. This goes into the heart and soul of what consumer's feel before buying a car. Understanding aspirations is \"Knowing the customer\", and \"Knowing the customer\" is giving them delight. Our analytics is also supported by the following deep dive to answer questions on why consumers end up buying brands different from what they discuss or research more about.\n",
        "\n",
        "**Price Factor**\n",
        "\n",
        "It’s worth to notice that Toyota is on the top place of aspirational brands followed by Chevrolet. Toyota has a lift value of 3.13 and Chevrolet has a lift value of 2.91 in association with aspirational customer sentiment.Hyundai, Toyota and Chevrolet’s appearance so high on the list was surprising, but may confirm the popular belief that American car buyers are not very brand conscious. On the other hand, we conclude that a majority of the customers are inclined to pick a car that gives them more bang for their buck. \n",
        "\n",
        "Toyota's luxury brand Lexus (Lexus IS ,ES or RX) is always on top 10 in any entry level luxury cars rankings. Lexus IS starts at 39,050 USD. Compare this to Mercedes Benz/Audi/BMW -  C-Class starts at 42,650 USD, Audi A4 starts at 40,145 USD and BMW 3 Series starts at 42,245 USD. For obvious reasons entry level Lexus and Infiniti have great price advantage.\n",
        "\n",
        "**Maintenance costs**\n",
        "\n",
        "It was surprising to see that BMW did not find it's spot in the Top 5 aspirational brands. The data supports the fact that affordable maintenance and repairs price is very import for entry level luxury car buyers. PepcriPal ranked Lexus in 6th place overall for its low ownership costs. It’s reported at about 551 USD per year. However, on average, BMW owners can expect to pay between 150 USD to 400 USD per service every 10,000 miles. A major service can cost upwards of 1,000 USD to 3,000 USD or even more. At the end of the day, owners pay about $1,000 to 1,700 per year for maintenance and repairs for a BMW – higher than most brands.  \n",
        "\n",
        "**Features and comfort**\n",
        "\n",
        "Lincoln and Chrysler are touching consumer sentiment by providing features that customers aspire for. Lincoln seems to be benefitting from sanctuary-inspired designs. Designers gave Lincoln vehicles 30-way power seats for precise cushion firmness and support as well as a massage feature. Selecting the “calm” mode on the dashboard “decluttered” it of nonessential data, like climate controls. Chrysler is putting kids at the head of their marketing efforts, with all-new commercials featuring them as showroom reps pitching parents and their children on the Chrysler Pacifica. You’ll see the kids demonstrating certain features, like the built-in vacuum cleaner, as tactics for selling parents on the Chrysler Pacifica. These superior features seem to have clearly been favored by potential car buyers.\n",
        "\n",
        "**Other Brands**\n",
        "\n",
        "The low co-occurrence of other brands and aspirational phrases reflects their market positions as reliable economy cars, not luxury mid-sized sedans which people \"aspire to own\". Even if they offer higher-end product features, the brand image for Toyota and Chevrolet are superior from customers' perspectives. Honda, Mazda, Volkswagen appear further down in the list. These brands are considered family-oriented cars with a strong focus on safety and comfort, while being affordable.\n",
        "\n",
        "**Summary - Showcase consumers aspirations**\n",
        "\n",
        "We have included phrases such as ‘dream’, ‘desire, ‘ultimate, ’looking to buy’, ‘aspire’, ‘best’, etc. as aspirational words. These words were picked after ensuring that a sample of comments retrieved for a given phrase displayed strong aspiration or wistful intent to buy a car of a certain make or model.\n",
        "\n",
        "In conclusion, customers usually have only 2 to 3 brands in their aspiration list for car purchases, and predominantly their final purchases come from this selection. As a car company, it is very important to break into customers’ initial list. While car companies should focus on self-positioning their brand by investing in R&D, production, marketing, and service to establish a distinctive brand image by building on consumers aspirations, JD power's REAL INSIGHTS FROM REAL OWNERS can be enhanced by presenting customer's real aspirations towards brands and our analytics team has the best tools to present this information!\n"
      ]
    }
  ]
}